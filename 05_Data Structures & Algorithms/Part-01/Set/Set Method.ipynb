{
 "cells": [
  {
   "cell_type": "code",
   "execution_count": 1,
   "id": "2c112fc8",
   "metadata": {},
   "outputs": [
    {
     "name": "stdout",
     "output_type": "stream",
     "text": [
      "{1, 2, 3, 4}\n"
     ]
    }
   ],
   "source": [
    "#add()\n",
    "my_set = {1, 2, 3}\n",
    "my_set.add(4)\n",
    "print(my_set)  # Output: {1, 2, 3, 4}\n"
   ]
  },
  {
   "cell_type": "code",
   "execution_count": 2,
   "id": "de9ab209",
   "metadata": {},
   "outputs": [
    {
     "name": "stdout",
     "output_type": "stream",
     "text": [
      "{1, 2, 3, 4, 5}\n"
     ]
    }
   ],
   "source": [
    "#update()\n",
    "my_set = {1, 2}\n",
    "my_set.update([3, 4, 5])\n",
    "print(my_set)  # Output: {1, 2, 3, 4, 5}\n"
   ]
  },
  {
   "cell_type": "code",
   "execution_count": 3,
   "id": "87a98a6d",
   "metadata": {},
   "outputs": [
    {
     "name": "stdout",
     "output_type": "stream",
     "text": [
      "1\n",
      "{2, 3}\n"
     ]
    }
   ],
   "source": [
    "#pop()\n",
    "my_set = {1, 2, 3}\n",
    "popped_item = my_set.pop()\n",
    "print(popped_item)  # Output: 1 (or 2, or 3, as sets are unordered)\n",
    "print(my_set)  # Output: {2, 3} (or the remaining items)\n"
   ]
  },
  {
   "cell_type": "code",
   "execution_count": 4,
   "id": "3bf18139",
   "metadata": {},
   "outputs": [
    {
     "name": "stdout",
     "output_type": "stream",
     "text": [
      "{1, 3}\n"
     ]
    }
   ],
   "source": [
    "#remove()\n",
    "my_set = {1, 2, 3}\n",
    "my_set.remove(2)\n",
    "print(my_set)  # Output: {1, 3}\n"
   ]
  },
  {
   "cell_type": "code",
   "execution_count": 5,
   "id": "4bf0d4b9",
   "metadata": {},
   "outputs": [
    {
     "name": "stdout",
     "output_type": "stream",
     "text": [
      "set()\n"
     ]
    }
   ],
   "source": [
    "#clear()\n",
    "my_set = {1, 2, 3}\n",
    "my_set.clear()\n",
    "print(my_set)  # Output: set()\n"
   ]
  },
  {
   "cell_type": "code",
   "execution_count": 6,
   "id": "758c496f",
   "metadata": {},
   "outputs": [
    {
     "name": "stdout",
     "output_type": "stream",
     "text": [
      "{1, 2, 3}\n"
     ]
    }
   ],
   "source": [
    "#discard()\n",
    "my_set = {1, 2, 3}\n",
    "my_set.discard(4)  # No error, even though 4 is not in the set\n",
    "print(my_set)  # Output: {1, 2, 3}\n"
   ]
  },
  {
   "cell_type": "code",
   "execution_count": 7,
   "id": "9e4a7e24",
   "metadata": {},
   "outputs": [
    {
     "name": "stdout",
     "output_type": "stream",
     "text": [
      "{1, 2, 3, 4, 5}\n"
     ]
    }
   ],
   "source": [
    "#union()\n",
    "set1 = {1, 2, 3}\n",
    "set2 = {3, 4, 5}\n",
    "union_set = set1.union(set2)\n",
    "print(union_set)  # Output: {1, 2, 3, 4, 5}\n"
   ]
  },
  {
   "cell_type": "code",
   "execution_count": 8,
   "id": "80ce5126",
   "metadata": {},
   "outputs": [
    {
     "name": "stdout",
     "output_type": "stream",
     "text": [
      "{3, 4}\n"
     ]
    }
   ],
   "source": [
    "#intersection()\n",
    "set1 = {1, 2, 3, 4}\n",
    "set2 = {3, 4, 5, 6}\n",
    "intersection_set = set1.intersection(set2)\n",
    "print(intersection_set)  # Output: {3, 4}\n"
   ]
  },
  {
   "cell_type": "code",
   "execution_count": 9,
   "id": "7c7b901e",
   "metadata": {},
   "outputs": [
    {
     "name": "stdout",
     "output_type": "stream",
     "text": [
      "{3, 4}\n"
     ]
    }
   ],
   "source": [
    "#intersection_update()\n",
    "set1 = {1, 2, 3, 4}\n",
    "set2 = {3, 4, 5, 6}\n",
    "set1.intersection_update(set2)\n",
    "print(set1)  # Output: {3, 4}\n"
   ]
  },
  {
   "cell_type": "code",
   "execution_count": 10,
   "id": "a7682d43",
   "metadata": {},
   "outputs": [
    {
     "name": "stdout",
     "output_type": "stream",
     "text": [
      "{1, 2}\n"
     ]
    }
   ],
   "source": [
    "#difference()\n",
    "set1 = {1, 2, 3, 4}\n",
    "set2 = {3, 4, 5, 6}\n",
    "difference_set = set1.difference(set2)\n",
    "print(difference_set)  # Output: {1, 2}\n"
   ]
  },
  {
   "cell_type": "code",
   "execution_count": 11,
   "id": "0ebfbfc4",
   "metadata": {},
   "outputs": [
    {
     "name": "stdout",
     "output_type": "stream",
     "text": [
      "{1, 2}\n"
     ]
    }
   ],
   "source": [
    "#difference_update()\n",
    "set1 = {1, 2, 3, 4}\n",
    "set2 = {3, 4, 5, 6}\n",
    "set1.difference_update(set2)\n",
    "print(set1)  # Output: {1, 2}\n"
   ]
  },
  {
   "cell_type": "code",
   "execution_count": 12,
   "id": "aae56b99",
   "metadata": {},
   "outputs": [
    {
     "name": "stdout",
     "output_type": "stream",
     "text": [
      "{1, 2, 5, 6}\n"
     ]
    }
   ],
   "source": [
    "#symmetric_difference()\n",
    "set1 = {1, 2, 3, 4}\n",
    "set2 = {3, 4, 5, 6}\n",
    "symmetric_difference_set = set1.symmetric_difference(set2)\n",
    "print(symmetric_difference_set)  # Output: {1, 2, 5, 6}\n"
   ]
  },
  {
   "cell_type": "code",
   "execution_count": 13,
   "id": "27f97812",
   "metadata": {},
   "outputs": [
    {
     "name": "stdout",
     "output_type": "stream",
     "text": [
      "{1, 2, 5, 6}\n"
     ]
    }
   ],
   "source": [
    "#symmetric_difference_update()\n",
    "set1 = {1, 2, 3, 4}\n",
    "set2 = {3, 4, 5, 6}\n",
    "set1.symmetric_difference_update(set2)\n",
    "print(set1)  # Output: {1, 2, 5, 6}\n"
   ]
  },
  {
   "cell_type": "code",
   "execution_count": 14,
   "id": "3f1ad12a",
   "metadata": {},
   "outputs": [
    {
     "name": "stdout",
     "output_type": "stream",
     "text": [
      "10\n"
     ]
    }
   ],
   "source": [
    "#sum()\n",
    "my_set = {1, 2, 3, 4}\n",
    "print(sum(my_set))  # Output: 10\n"
   ]
  },
  {
   "cell_type": "code",
   "execution_count": 15,
   "id": "b12a997e",
   "metadata": {},
   "outputs": [
    {
     "name": "stdout",
     "output_type": "stream",
     "text": [
      "4\n"
     ]
    }
   ],
   "source": [
    "#len()\n",
    "my_set = {1, 2, 3, 4}\n",
    "print(len(my_set))  # Output: 4\n"
   ]
  },
  {
   "cell_type": "code",
   "execution_count": 16,
   "id": "6a726ced",
   "metadata": {},
   "outputs": [
    {
     "name": "stdout",
     "output_type": "stream",
     "text": [
      "4\n"
     ]
    }
   ],
   "source": [
    "#max()\n",
    "my_set = {1, 2, 3, 4}\n",
    "print(max(my_set))  # Output: 4\n"
   ]
  },
  {
   "cell_type": "code",
   "execution_count": 17,
   "id": "63667592",
   "metadata": {},
   "outputs": [
    {
     "name": "stdout",
     "output_type": "stream",
     "text": [
      "1\n"
     ]
    }
   ],
   "source": [
    "#min()\n",
    "my_set = {1, 2, 3, 4}\n",
    "print(min(my_set))  # Output: 1\n"
   ]
  },
  {
   "cell_type": "code",
   "execution_count": 18,
   "id": "212f9548",
   "metadata": {},
   "outputs": [
    {
     "name": "stdout",
     "output_type": "stream",
     "text": [
      "[1, 2, 3, 4]\n"
     ]
    }
   ],
   "source": [
    "#sorted()\n",
    "my_set = {4, 2, 1, 3}\n",
    "print(sorted(my_set))  # Output: [1, 2, 3, 4]\n"
   ]
  },
  {
   "cell_type": "code",
   "execution_count": 19,
   "id": "422e4853",
   "metadata": {},
   "outputs": [
    {
     "name": "stdout",
     "output_type": "stream",
     "text": [
      "True\n"
     ]
    }
   ],
   "source": [
    "#issubset()\n",
    "set1 = {1, 2}\n",
    "set2 = {1, 2, 3, 4}\n",
    "print(set1.issubset(set2))  # Output: True\n"
   ]
  },
  {
   "cell_type": "code",
   "execution_count": 20,
   "id": "23565700",
   "metadata": {},
   "outputs": [
    {
     "name": "stdout",
     "output_type": "stream",
     "text": [
      "True\n"
     ]
    }
   ],
   "source": [
    "#issuperset()\n",
    "set1 = {1, 2, 3, 4}\n",
    "set2 = {1, 2}\n",
    "print(set1.issuperset(set2))  # Output: True\n"
   ]
  },
  {
   "cell_type": "code",
   "execution_count": 21,
   "id": "5cc9175e",
   "metadata": {},
   "outputs": [
    {
     "name": "stdout",
     "output_type": "stream",
     "text": [
      "True\n"
     ]
    }
   ],
   "source": [
    "#isdisjoint()\n",
    "set1 = {1, 2, 3}\n",
    "set2 = {4, 5, 6}\n",
    "print(set1.isdisjoint(set2))  # Output: True\n"
   ]
  },
  {
   "cell_type": "code",
   "execution_count": null,
   "id": "8d08f34c",
   "metadata": {},
   "outputs": [],
   "source": []
  }
 ],
 "metadata": {
  "kernelspec": {
   "display_name": "Python 3 (ipykernel)",
   "language": "python",
   "name": "python3"
  },
  "language_info": {
   "codemirror_mode": {
    "name": "ipython",
    "version": 3
   },
   "file_extension": ".py",
   "mimetype": "text/x-python",
   "name": "python",
   "nbconvert_exporter": "python",
   "pygments_lexer": "ipython3",
   "version": "3.11.4"
  }
 },
 "nbformat": 4,
 "nbformat_minor": 5
}
