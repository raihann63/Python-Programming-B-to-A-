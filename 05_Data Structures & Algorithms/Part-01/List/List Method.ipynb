{
 "cells": [
  {
   "cell_type": "code",
   "execution_count": 1,
   "id": "e9346865",
   "metadata": {},
   "outputs": [
    {
     "name": "stdout",
     "output_type": "stream",
     "text": [
      "[1, 2, 3, 4]\n"
     ]
    }
   ],
   "source": [
    "#append()\n",
    "my_list = [1, 2, 3]\n",
    "my_list.append(4)\n",
    "print(my_list)  # Output: [1, 2, 3, 4]\n"
   ]
  },
  {
   "cell_type": "code",
   "execution_count": 2,
   "id": "df728ffa",
   "metadata": {},
   "outputs": [
    {
     "name": "stdout",
     "output_type": "stream",
     "text": [
      "[1, 2, 3, 4, 5]\n"
     ]
    }
   ],
   "source": [
    "#extend()\n",
    "my_list = [1, 2, 3]\n",
    "my_list.extend([4, 5])\n",
    "print(my_list)  # Output: [1, 2, 3, 4, 5]\n"
   ]
  },
  {
   "cell_type": "code",
   "execution_count": 3,
   "id": "3d953ac0",
   "metadata": {},
   "outputs": [
    {
     "name": "stdout",
     "output_type": "stream",
     "text": [
      "[1, 10, 2, 3]\n"
     ]
    }
   ],
   "source": [
    "#insert()\n",
    "my_list = [1, 2, 3]\n",
    "my_list.insert(1, 10)\n",
    "print(my_list)  # Output: [1, 10, 2, 3]\n"
   ]
  },
  {
   "cell_type": "code",
   "execution_count": 4,
   "id": "e75fa4e4",
   "metadata": {},
   "outputs": [
    {
     "name": "stdout",
     "output_type": "stream",
     "text": [
      "[1, 3, 2]\n"
     ]
    }
   ],
   "source": [
    "#remove()\n",
    "my_list = [1, 2, 3, 2]\n",
    "my_list.remove(2)\n",
    "print(my_list)  # Output: [1, 3, 2]\n"
   ]
  },
  {
   "cell_type": "code",
   "execution_count": 5,
   "id": "6709f009",
   "metadata": {},
   "outputs": [
    {
     "name": "stdout",
     "output_type": "stream",
     "text": [
      "2\n",
      "[1, 3]\n"
     ]
    }
   ],
   "source": [
    "#pop()\n",
    "my_list = [1, 2, 3]\n",
    "popped_item = my_list.pop(1)\n",
    "print(popped_item)  # Output: 2\n",
    "print(my_list)  # Output: [1, 3]\n"
   ]
  },
  {
   "cell_type": "code",
   "execution_count": 6,
   "id": "675ae95c",
   "metadata": {},
   "outputs": [
    {
     "name": "stdout",
     "output_type": "stream",
     "text": [
      "[]\n"
     ]
    }
   ],
   "source": [
    "#clear()\n",
    "my_list = [1, 2, 3]\n",
    "my_list.clear()\n",
    "print(my_list)  # Output: []\n"
   ]
  },
  {
   "cell_type": "code",
   "execution_count": 7,
   "id": "cea50f89",
   "metadata": {},
   "outputs": [
    {
     "name": "stdout",
     "output_type": "stream",
     "text": [
      "1\n"
     ]
    }
   ],
   "source": [
    "#index()\n",
    "my_list = [1, 2, 3, 2]\n",
    "print(my_list.index(2))  # Output: 1\n"
   ]
  },
  {
   "cell_type": "code",
   "execution_count": 8,
   "id": "f0e0f3c3",
   "metadata": {},
   "outputs": [
    {
     "name": "stdout",
     "output_type": "stream",
     "text": [
      "2\n"
     ]
    }
   ],
   "source": [
    "#count()\n",
    "my_list = [1, 2, 3, 2]\n",
    "print(my_list.count(2))  # Output: 2\n"
   ]
  },
  {
   "cell_type": "code",
   "execution_count": 9,
   "id": "058720f5",
   "metadata": {},
   "outputs": [
    {
     "name": "stdout",
     "output_type": "stream",
     "text": [
      "[1, 2, 3]\n"
     ]
    }
   ],
   "source": [
    "#copy()\n",
    "my_list = [1, 2, 3]\n",
    "new_list = my_list.copy()\n",
    "print(new_list)  # Output: [1, 2, 3]\n"
   ]
  },
  {
   "cell_type": "code",
   "execution_count": 10,
   "id": "d6fddd8b",
   "metadata": {},
   "outputs": [
    {
     "name": "stdout",
     "output_type": "stream",
     "text": [
      "[3, 2, 1]\n"
     ]
    }
   ],
   "source": [
    "#reverse()\n",
    "my_list = [1, 2, 3]\n",
    "my_list.reverse()\n",
    "print(my_list)  # Output: [3, 2, 1]\n"
   ]
  },
  {
   "cell_type": "code",
   "execution_count": 11,
   "id": "d1ac5111",
   "metadata": {},
   "outputs": [
    {
     "name": "stdout",
     "output_type": "stream",
     "text": [
      "[1, 2, 3]\n"
     ]
    }
   ],
   "source": [
    "#sort()\n",
    "my_list = [3, 1, 2]\n",
    "my_list.sort()\n",
    "print(my_list)  # Output: [1, 2, 3]\n"
   ]
  },
  {
   "cell_type": "code",
   "execution_count": 12,
   "id": "b9987eb4",
   "metadata": {},
   "outputs": [
    {
     "name": "stdout",
     "output_type": "stream",
     "text": [
      "[1, 2, 3]\n",
      "[3, 1, 2]\n"
     ]
    }
   ],
   "source": [
    "#sorted()\n",
    "my_list = [3, 1, 2]\n",
    "sorted_list = sorted(my_list)\n",
    "print(sorted_list)  # Output: [1, 2, 3]\n",
    "print(my_list)  # Output: [3, 1, 2]\n"
   ]
  },
  {
   "cell_type": "code",
   "execution_count": 13,
   "id": "9548b7f5",
   "metadata": {},
   "outputs": [
    {
     "name": "stdout",
     "output_type": "stream",
     "text": [
      "3\n"
     ]
    }
   ],
   "source": [
    "#max()\n",
    "my_list = [1, 2, 3]\n",
    "print(max(my_list))  # Output: 3\n"
   ]
  },
  {
   "cell_type": "code",
   "execution_count": 14,
   "id": "a8f3c653",
   "metadata": {},
   "outputs": [
    {
     "name": "stdout",
     "output_type": "stream",
     "text": [
      "1\n"
     ]
    }
   ],
   "source": [
    "#min()\n",
    "my_list = [1, 2, 3]\n",
    "print(min(my_list))  # Output: 1\n"
   ]
  },
  {
   "cell_type": "code",
   "execution_count": 15,
   "id": "828d247e",
   "metadata": {},
   "outputs": [
    {
     "name": "stdout",
     "output_type": "stream",
     "text": [
      "6\n"
     ]
    }
   ],
   "source": [
    "#sum()\n",
    "my_list = [1, 2, 3]\n",
    "print(sum(my_list))  # Output: 6\n"
   ]
  },
  {
   "cell_type": "code",
   "execution_count": 16,
   "id": "ceddca87",
   "metadata": {},
   "outputs": [
    {
     "name": "stdout",
     "output_type": "stream",
     "text": [
      "0 a\n",
      "1 b\n",
      "2 c\n"
     ]
    }
   ],
   "source": [
    "#enumerate()\n",
    "my_list = ['a', 'b', 'c']\n",
    "for index, value in enumerate(my_list):\n",
    "    print(index, value)\n",
    "# Output:\n",
    "# 0 a\n",
    "# 1 b\n",
    "# 2 c\n"
   ]
  },
  {
   "cell_type": "code",
   "execution_count": 17,
   "id": "f7b92c99",
   "metadata": {},
   "outputs": [
    {
     "name": "stdout",
     "output_type": "stream",
     "text": [
      "24\n"
     ]
    }
   ],
   "source": [
    "#reduce()\n",
    "from functools import reduce\n",
    "my_list = [1, 2, 3, 4]\n",
    "result = reduce(lambda x, y: x * y, my_list)\n",
    "print(result)  # Output: 24\n"
   ]
  },
  {
   "cell_type": "code",
   "execution_count": 18,
   "id": "ae20e0ce",
   "metadata": {},
   "outputs": [
    {
     "name": "stdout",
     "output_type": "stream",
     "text": [
      "[2, 4]\n"
     ]
    }
   ],
   "source": [
    "#filter()\n",
    "my_list = [1, 2, 3, 4]\n",
    "filtered = list(filter(lambda x: x % 2 == 0, my_list))\n",
    "print(filtered)  # Output: [2, 4]\n"
   ]
  },
  {
   "cell_type": "code",
   "execution_count": 19,
   "id": "6ec9a501",
   "metadata": {},
   "outputs": [
    {
     "name": "stdout",
     "output_type": "stream",
     "text": [
      "[1, 4, 9]\n"
     ]
    }
   ],
   "source": [
    "#map()\n",
    "my_list = [1, 2, 3]\n",
    "squared = list(map(lambda x: x**2, my_list))\n",
    "print(squared)  # Output: [1, 4, 9]\n"
   ]
  },
  {
   "cell_type": "code",
   "execution_count": 20,
   "id": "d725236c",
   "metadata": {},
   "outputs": [
    {
     "name": "stdout",
     "output_type": "stream",
     "text": [
      "5\n"
     ]
    }
   ],
   "source": [
    "#lambda\n",
    "add = lambda x, y: x + y\n",
    "print(add(2, 3))  # Output: 5\n"
   ]
  },
  {
   "cell_type": "code",
   "execution_count": null,
   "id": "dd04f2d3",
   "metadata": {},
   "outputs": [],
   "source": []
  }
 ],
 "metadata": {
  "kernelspec": {
   "display_name": "Python 3 (ipykernel)",
   "language": "python",
   "name": "python3"
  },
  "language_info": {
   "codemirror_mode": {
    "name": "ipython",
    "version": 3
   },
   "file_extension": ".py",
   "mimetype": "text/x-python",
   "name": "python",
   "nbconvert_exporter": "python",
   "pygments_lexer": "ipython3",
   "version": "3.11.4"
  }
 },
 "nbformat": 4,
 "nbformat_minor": 5
}
