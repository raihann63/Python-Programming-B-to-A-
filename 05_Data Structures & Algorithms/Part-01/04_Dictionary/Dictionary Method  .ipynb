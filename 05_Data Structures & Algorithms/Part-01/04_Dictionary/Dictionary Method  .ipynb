{
 "cells": [
  {
   "cell_type": "code",
   "execution_count": 1,
   "id": "c8968020",
   "metadata": {},
   "outputs": [
    {
     "name": "stdout",
     "output_type": "stream",
     "text": [
      "Alice\n",
      "Not Found\n"
     ]
    }
   ],
   "source": [
    "#get()\n",
    "my_dict = {\"name\": \"Alice\", \n",
    "           \"age\": 25\n",
    "          }\n",
    "print(my_dict.get(\"name\"))  # Output: Alice\n",
    "print(my_dict.get(\"address\", \"Not Found\"))  # Output: Not Found\n"
   ]
  },
  {
   "cell_type": "code",
   "execution_count": 2,
   "id": "6c5d9d2b",
   "metadata": {},
   "outputs": [
    {
     "name": "stdout",
     "output_type": "stream",
     "text": [
      "30\n",
      "{'name': 'Bob'}\n"
     ]
    }
   ],
   "source": [
    "#pop()\n",
    "my_dict = {\"name\": \"Bob\", \n",
    "           \"age\": 30\n",
    "          }\n",
    "age = my_dict.pop(\"age\")\n",
    "print(age)  # Output: 30\n",
    "print(my_dict)  # Output: {'name': 'Bob'}\n"
   ]
  },
  {
   "cell_type": "code",
   "execution_count": 3,
   "id": "edb4ae56",
   "metadata": {},
   "outputs": [
    {
     "name": "stdout",
     "output_type": "stream",
     "text": [
      "('age', 22)\n",
      "{'name': 'Charlie'}\n"
     ]
    }
   ],
   "source": [
    "#popitem()\n",
    "my_dict = {\"name\": \"Charlie\", \n",
    "           \"age\": 22\n",
    "          }\n",
    "item = my_dict.popitem()\n",
    "print(item)  # Output: ('age', 22)\n",
    "print(my_dict)  # Output: {'name': 'Charlie'}\n"
   ]
  },
  {
   "cell_type": "code",
   "execution_count": 4,
   "id": "935d8d0b",
   "metadata": {},
   "outputs": [
    {
     "name": "stdout",
     "output_type": "stream",
     "text": [
      "{}\n"
     ]
    }
   ],
   "source": [
    "#clear()\n",
    "my_dict = {\"name\": \"David\", \n",
    "           \"age\": 40\n",
    "          }\n",
    "my_dict.clear()\n",
    "print(my_dict)  # Output: {}\n"
   ]
  },
  {
   "cell_type": "code",
   "execution_count": 5,
   "id": "5398a0d8",
   "metadata": {},
   "outputs": [
    {
     "name": "stdout",
     "output_type": "stream",
     "text": [
      "{'name': 'Eve', 'age': 35}\n"
     ]
    }
   ],
   "source": [
    "#copy()\n",
    "my_dict = {\"name\": \"Eve\", \n",
    "           \"age\": 35\n",
    "          }\n",
    "new_dict = my_dict.copy()\n",
    "print(new_dict)  # Output: {'name': 'Eve', 'age': 35}\n"
   ]
  },
  {
   "cell_type": "code",
   "execution_count": 6,
   "id": "2b715d79",
   "metadata": {},
   "outputs": [
    {
     "name": "stdout",
     "output_type": "stream",
     "text": [
      "dict_keys(['name', 'age'])\n"
     ]
    }
   ],
   "source": [
    "#keys()\n",
    "my_dict = {\"name\": \"Frank\", \n",
    "           \"age\": 28\n",
    "          }\n",
    "keys = my_dict.keys()\n",
    "print(keys)  # Output: dict_keys(['name', 'age'])\n"
   ]
  },
  {
   "cell_type": "code",
   "execution_count": 7,
   "id": "83d4b549",
   "metadata": {},
   "outputs": [
    {
     "name": "stdout",
     "output_type": "stream",
     "text": [
      "dict_values(['Grace', 22])\n"
     ]
    }
   ],
   "source": [
    "#values()\n",
    "my_dict = {\"name\": \"Grace\", \n",
    "           \"age\": 22\n",
    "          }\n",
    "values = my_dict.values()\n",
    "print(values)  # Output: dict_values(['Grace', '22'])\n"
   ]
  },
  {
   "cell_type": "code",
   "execution_count": 8,
   "id": "c10aac17",
   "metadata": {},
   "outputs": [
    {
     "name": "stdout",
     "output_type": "stream",
     "text": [
      "dict_items([('name', 'Hank'), ('age', 45)])\n"
     ]
    }
   ],
   "source": [
    "#items()\n",
    "my_dict = {\"name\": \"Hank\", \n",
    "           \"age\": 45\n",
    "          }\n",
    "items = my_dict.items()\n",
    "print(items)  # Output: dict_items([('name', 'Hank'), ('age', 45)])\n"
   ]
  },
  {
   "cell_type": "code",
   "execution_count": 9,
   "id": "206ca675",
   "metadata": {},
   "outputs": [
    {
     "name": "stdout",
     "output_type": "stream",
     "text": [
      "{'name': 'Ivy', 'age': 32, 'city': 'New York'}\n"
     ]
    }
   ],
   "source": [
    "#update()\n",
    "my_dict = {\"name\": \"Ivy\"}\n",
    "my_dict.update({\"age\": 32, \"city\": \"New York\"})\n",
    "print(my_dict)  # Output: {'name': 'Ivy', 'age': 32, 'city': 'New York'}\n"
   ]
  },
  {
   "cell_type": "code",
   "execution_count": 10,
   "id": "3cd1b253",
   "metadata": {},
   "outputs": [
    {
     "name": "stdout",
     "output_type": "stream",
     "text": [
      "{'name': 'Unknown', 'age': 'Unknown', 'city': 'Unknown'}\n"
     ]
    }
   ],
   "source": [
    "#fromkeys()\n",
    "keys = ['name', 'age', 'city']\n",
    "default_value = \"Unknown\"\n",
    "my_dict = dict.fromkeys(keys, default_value)\n",
    "print(my_dict)  # Output: {'name': 'Unknown', 'age': 'Unknown', 'city': 'Unknown'}\n"
   ]
  },
  {
   "cell_type": "code",
   "execution_count": 11,
   "id": "405d9cc2",
   "metadata": {},
   "outputs": [
    {
     "name": "stdout",
     "output_type": "stream",
     "text": [
      "27\n",
      "{'name': 'Jack', 'age': 27}\n"
     ]
    }
   ],
   "source": [
    "#setdefault()\n",
    "my_dict = {\"name\": \"Jack\"}\n",
    "age = my_dict.setdefault(\"age\", 27)\n",
    "print(age)  # Output: 27\n",
    "print(my_dict)  # Output: {'name': 'Jack', 'age': 27}\n"
   ]
  },
  {
   "cell_type": "code",
   "execution_count": 12,
   "id": "3eef72f4",
   "metadata": {},
   "outputs": [
    {
     "name": "stdout",
     "output_type": "stream",
     "text": [
      "3\n"
     ]
    }
   ],
   "source": [
    "#len()\n",
    "my_dict = {\"name\": \"Kate\", \n",
    "           \"age\": 31, \n",
    "           \"city\": \"Boston\"\n",
    "          }\n",
    "print(len(my_dict))  # Output: 3\n"
   ]
  },
  {
   "cell_type": "code",
   "execution_count": 13,
   "id": "f33ad5f8",
   "metadata": {},
   "outputs": [
    {
     "name": "stdout",
     "output_type": "stream",
     "text": [
      "['age', 'city', 'name']\n"
     ]
    }
   ],
   "source": [
    "#sorted()\n",
    "my_dict = {\"name\": \"Leo\", \n",
    "           \"age\": 34, \n",
    "           \"city\": \"Chicago\"\n",
    "          }\n",
    "sorted_keys = sorted(my_dict)\n",
    "print(sorted_keys)  # Output: ['age', 'city', 'name']\n"
   ]
  },
  {
   "cell_type": "code",
   "execution_count": null,
   "id": "6e542059",
   "metadata": {},
   "outputs": [],
   "source": []
  }
 ],
 "metadata": {
  "kernelspec": {
   "display_name": "Python 3 (ipykernel)",
   "language": "python",
   "name": "python3"
  },
  "language_info": {
   "codemirror_mode": {
    "name": "ipython",
    "version": 3
   },
   "file_extension": ".py",
   "mimetype": "text/x-python",
   "name": "python",
   "nbconvert_exporter": "python",
   "pygments_lexer": "ipython3",
   "version": "3.11.4"
  }
 },
 "nbformat": 4,
 "nbformat_minor": 5
}
