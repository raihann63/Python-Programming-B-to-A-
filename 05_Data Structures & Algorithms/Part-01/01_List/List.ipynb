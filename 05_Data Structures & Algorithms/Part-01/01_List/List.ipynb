{
 "cells": [
  {
   "cell_type": "code",
   "execution_count": 1,
   "id": "11bd8e9e",
   "metadata": {},
   "outputs": [
    {
     "name": "stdout",
     "output_type": "stream",
     "text": [
      "[1, 2, 3, 4]\n"
     ]
    }
   ],
   "source": [
    "#Constructor\n",
    "my_list = list([1, 2, 3, 4])\n",
    "print(my_list)  # Output: [1, 2, 3, 4]\n"
   ]
  },
  {
   "cell_type": "code",
   "execution_count": 2,
   "id": "e393b1a5",
   "metadata": {},
   "outputs": [
    {
     "name": "stdout",
     "output_type": "stream",
     "text": [
      "[[1, 2], [3, 4], [5, 6]]\n"
     ]
    }
   ],
   "source": [
    "#Nested List\n",
    "nested_list = [[1, 2], [3, 4], [5, 6]]\n",
    "print(nested_list)  # Output: [[1, 2], [3, 4], [5, 6]]\n"
   ]
  },
  {
   "cell_type": "code",
   "execution_count": 3,
   "id": "7071d12e",
   "metadata": {},
   "outputs": [
    {
     "name": "stdout",
     "output_type": "stream",
     "text": [
      "20\n"
     ]
    }
   ],
   "source": [
    "#Positive Index\n",
    "my_list = [10, 20, 30, 40]\n",
    "print(my_list[1])  # Output: 20\n"
   ]
  },
  {
   "cell_type": "code",
   "execution_count": 4,
   "id": "684d4339",
   "metadata": {},
   "outputs": [
    {
     "name": "stdout",
     "output_type": "stream",
     "text": [
      "40\n"
     ]
    }
   ],
   "source": [
    "#Negative Index\n",
    "my_list = [10, 20, 30, 40]\n",
    "print(my_list[-1])  # Output: 40\n"
   ]
  },
  {
   "cell_type": "code",
   "execution_count": 5,
   "id": "51266b59",
   "metadata": {},
   "outputs": [
    {
     "name": "stdout",
     "output_type": "stream",
     "text": [
      "[20, 30, 40]\n"
     ]
    }
   ],
   "source": [
    "#Range / Slice\n",
    "my_list = [10, 20, 30, 40, 50]\n",
    "print(my_list[1:4])  # Output: [20, 30, 40]\n"
   ]
  },
  {
   "cell_type": "code",
   "execution_count": 6,
   "id": "9e62b2f7",
   "metadata": {},
   "outputs": [
    {
     "name": "stdout",
     "output_type": "stream",
     "text": [
      "[10, 15, 20, 30, 40]\n"
     ]
    }
   ],
   "source": [
    "#Add / Insert\n",
    "my_list = [10, 20, 30]\n",
    "my_list.append(40)\n",
    "my_list.insert(1, 15)\n",
    "print(my_list)  # Output: [10, 15, 20, 30, 40]\n"
   ]
  },
  {
   "cell_type": "code",
   "execution_count": 7,
   "id": "971315fd",
   "metadata": {},
   "outputs": [
    {
     "name": "stdout",
     "output_type": "stream",
     "text": [
      "[10, 25, 30]\n"
     ]
    }
   ],
   "source": [
    "#Change\n",
    "my_list = [10, 20, 30]\n",
    "my_list[1] = 25\n",
    "print(my_list)  # Output: [10, 25, 30]\n"
   ]
  },
  {
   "cell_type": "code",
   "execution_count": 8,
   "id": "20166691",
   "metadata": {},
   "outputs": [
    {
     "name": "stdout",
     "output_type": "stream",
     "text": [
      "[10, 30]\n"
     ]
    }
   ],
   "source": [
    "#Delete\n",
    "my_list = [10, 20, 30]\n",
    "del my_list[1]\n",
    "print(my_list)  # Output: [10, 30]\n"
   ]
  },
  {
   "cell_type": "code",
   "execution_count": 9,
   "id": "0cd93cbc",
   "metadata": {},
   "outputs": [
    {
     "name": "stdout",
     "output_type": "stream",
     "text": [
      "10\n",
      "20\n",
      "30\n"
     ]
    }
   ],
   "source": [
    "#Loop\n",
    "my_list = [10, 20, 30]\n",
    "for item in my_list:\n",
    "    print(item)\n",
    "# Output:\n",
    "# 10\n",
    "# 20\n",
    "# 30\n"
   ]
  },
  {
   "cell_type": "code",
   "execution_count": 10,
   "id": "bacf399e",
   "metadata": {},
   "outputs": [
    {
     "name": "stdout",
     "output_type": "stream",
     "text": [
      "3\n"
     ]
    }
   ],
   "source": [
    "#Length\n",
    "my_list = [10, 20, 30]\n",
    "print(len(my_list))  # Output: 3\n"
   ]
  },
  {
   "cell_type": "code",
   "execution_count": 11,
   "id": "20a19e84",
   "metadata": {},
   "outputs": [
    {
     "name": "stdout",
     "output_type": "stream",
     "text": [
      "True\n"
     ]
    }
   ],
   "source": [
    "#Membership\n",
    "my_list = [10, 20, 30]\n",
    "print(20 in my_list)  # Output: True\n"
   ]
  },
  {
   "cell_type": "code",
   "execution_count": 12,
   "id": "d69b0732",
   "metadata": {},
   "outputs": [
    {
     "name": "stdout",
     "output_type": "stream",
     "text": [
      "[1, 2, 3, 1, 2, 3]\n"
     ]
    }
   ],
   "source": [
    "#Repetition\n",
    "my_list = [1, 2, 3]\n",
    "print(my_list * 2)  # Output: [1, 2, 3, 1, 2, 3]\n"
   ]
  },
  {
   "cell_type": "code",
   "execution_count": 13,
   "id": "8718b0b9",
   "metadata": {},
   "outputs": [
    {
     "name": "stdout",
     "output_type": "stream",
     "text": [
      "[10, 20, 30]\n"
     ]
    }
   ],
   "source": [
    "#Copy list\n",
    "my_list = [10, 20, 30]\n",
    "new_list = my_list.copy()\n",
    "print(new_list)  # Output: [10, 20, 30]\n"
   ]
  },
  {
   "cell_type": "code",
   "execution_count": 14,
   "id": "904033b2",
   "metadata": {},
   "outputs": [
    {
     "name": "stdout",
     "output_type": "stream",
     "text": [
      "[1, 2, 3, 4, 5, 6]\n"
     ]
    }
   ],
   "source": [
    "#Concatenation\n",
    "list1 = [1, 2, 3]\n",
    "list2 = [4, 5, 6]\n",
    "combined = list1 + list2\n",
    "print(combined)  # Output: [1, 2, 3, 4, 5, 6]\n"
   ]
  },
  {
   "cell_type": "code",
   "execution_count": null,
   "id": "6cbb5ae9",
   "metadata": {},
   "outputs": [],
   "source": []
  }
 ],
 "metadata": {
  "kernelspec": {
   "display_name": "Python 3 (ipykernel)",
   "language": "python",
   "name": "python3"
  },
  "language_info": {
   "codemirror_mode": {
    "name": "ipython",
    "version": 3
   },
   "file_extension": ".py",
   "mimetype": "text/x-python",
   "name": "python",
   "nbconvert_exporter": "python",
   "pygments_lexer": "ipython3",
   "version": "3.11.4"
  }
 },
 "nbformat": 4,
 "nbformat_minor": 5
}
