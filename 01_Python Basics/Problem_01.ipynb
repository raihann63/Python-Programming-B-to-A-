{
 "cells": [
  {
   "cell_type": "code",
   "execution_count": 1,
   "id": "fe18ac5d",
   "metadata": {},
   "outputs": [
    {
     "name": "stdout",
     "output_type": "stream",
     "text": [
      "Before swapping:\n",
      "a = 5\n",
      "b = 10\n",
      "After swapping:\n",
      "a = 10\n",
      "b = 5\n"
     ]
    }
   ],
   "source": [
    "#Problem-1: Write a program that swaps the values of two variables.\n",
    "\n",
    "# Swap values of two variables\n",
    "a = 5\n",
    "b = 10\n",
    "\n",
    "print(\"Before swapping:\")\n",
    "print(\"a =\", a)\n",
    "print(\"b =\", b)\n",
    "\n",
    "# Swapping values\n",
    "a, b = b, a\n",
    "\n",
    "print(\"After swapping:\")\n",
    "print(\"a =\", a)\n",
    "print(\"b =\", b)"
   ]
  },
  {
   "cell_type": "code",
   "execution_count": 2,
   "id": "c83b80fc",
   "metadata": {},
   "outputs": [
    {
     "name": "stdout",
     "output_type": "stream",
     "text": [
      "Enter the length of the rectangle: 3\n",
      "Enter the width of the rectangle: 7\n",
      "The area of the rectangle is: 21.0\n"
     ]
    }
   ],
   "source": [
    "#Problem-2: Write a program that calculates the area of a rectangle given its length and width.\n",
    "length = float(input(\"Enter the length of the rectangle: \"))\n",
    "width = float(input(\"Enter the width of the rectangle: \"))\n",
    "\n",
    "area = length * width\n",
    "\n",
    "print(\"The area of the rectangle is:\", area)"
   ]
  },
  {
   "cell_type": "code",
   "execution_count": 3,
   "id": "76ca9ec1",
   "metadata": {},
   "outputs": [
    {
     "name": "stdout",
     "output_type": "stream",
     "text": [
      "Enter temperature in Fahrenheit: 109\n",
      "Temperature in Celsius: 42.77777777777778\n"
     ]
    }
   ],
   "source": [
    "#Problem-3: Write a program that converts temperature from Fahrenheit to Celsius.\n",
    "\n",
    "# Convert temperature from Fahrenheit to Celsius\n",
    "fahrenheit = float(input(\"Enter temperature in Fahrenheit: \"))\n",
    "\n",
    "celsius = (fahrenheit - 32) * 5 / 9\n",
    "\n",
    "print(\"Temperature in Celsius:\", celsius)"
   ]
  },
  {
   "cell_type": "code",
   "execution_count": 4,
   "id": "70299557",
   "metadata": {},
   "outputs": [
    {
     "name": "stdout",
     "output_type": "stream",
     "text": [
      "Enter the radius of the sphere: 3\n",
      "The volume of the sphere is: 113.09733552923254\n"
     ]
    }
   ],
   "source": [
    "#Problem-4:Write a program that calculates the volume of a sphere given its radius.\n",
    "\n",
    "import math\n",
    "\n",
    "# Calculate the volume of a sphere\n",
    "radius = float(input(\"Enter the radius of the sphere: \"))\n",
    "\n",
    "volume = (4 / 3) * math.pi * (radius ** 3)\n",
    "\n",
    "print(\"The volume of the sphere is:\", volume)"
   ]
  },
  {
   "cell_type": "code",
   "execution_count": 5,
   "id": "b51e74f0",
   "metadata": {},
   "outputs": [
    {
     "name": "stdout",
     "output_type": "stream",
     "text": [
      "Enter the first number: 3\n",
      "Enter the second number: 4\n",
      "Enter the third number: 7\n",
      "The average of the three numbers is: 4.666666666666667\n"
     ]
    }
   ],
   "source": [
    "#Problem-5:Write a program that finds the average of three numbers.\n",
    "\n",
    "# Calculate the average of three numbers\n",
    "num1 = float(input(\"Enter the first number: \"))\n",
    "num2 = float(input(\"Enter the second number: \"))\n",
    "num3 = float(input(\"Enter the third number: \"))\n",
    "\n",
    "average = (num1 + num2 + num3) / 3\n",
    "\n",
    "print(\"The average of the three numbers is:\", average)"
   ]
  },
  {
   "cell_type": "code",
   "execution_count": 6,
   "id": "ebb1e724",
   "metadata": {},
   "outputs": [
    {
     "name": "stdout",
     "output_type": "stream",
     "text": [
      "\n",
      "\n",
      "Find the area of circle given to solve:  \n",
      "Provide a value for radious : 7\n",
      "\n",
      "..................................................\n",
      "\n",
      "Area for circle for 7.0 is :  153.94\n",
      "\n",
      "Answer:153.94\n"
     ]
    }
   ],
   "source": [
    "#Problem-6:Write a program that finds the area of circle\n",
    "from math import pi\n",
    "import math\n",
    "print(\"\\n\\nFind the area of circle given to solve:  \")\n",
    "\n",
    "r = float(input(\"Provide a value for radious : \"))\n",
    "Area=pi*r**2\n",
    "\n",
    "print(\"\\n\" +\".\"*50 + \"\\n\")\n",
    "\n",
    "print(f\"Area for circle for {r} is :  {Area:.2f}\\n\")\n",
    "print(f\"Answer:{Area:.2f}\")"
   ]
  },
  {
   "cell_type": "code",
   "execution_count": 7,
   "id": "ede51186",
   "metadata": {},
   "outputs": [
    {
     "name": "stdout",
     "output_type": "stream",
     "text": [
      "Type your first name: ALI\n",
      "Type your last name: RAIHAN\n",
      "Your full name = RAIHAN ALI\n"
     ]
    }
   ],
   "source": [
    "#Problem-7:Write a program that the program should print out the full name in the format: Your full name = [Last Name] [First Name]\n",
    "userName = input(\"Type your first name: \")\n",
    "UserName2 = input(\"Type your last name: \")\n",
    "\n",
    "print(f\"Your full name = {UserName2} {userName}\")\n"
   ]
  },
  {
   "cell_type": "code",
   "execution_count": 8,
   "id": "78927c53",
   "metadata": {},
   "outputs": [
    {
     "name": "stdout",
     "output_type": "stream",
     "text": [
      "Python version\n",
      "3.11.4 | packaged by Anaconda, Inc. | (main, Jul  5 2023, 13:38:37) [MSC v.1916 64 bit (AMD64)]\n",
      "\n",
      "------------------------------------------------------------------------------------------\n",
      "\n",
      "Version inf: \n",
      "sys.version_info(major=3, minor=11, micro=4, releaselevel='final', serial=0)\n"
     ]
    }
   ],
   "source": [
    "#Problem-8:Write a program that finds the version\n",
    "\n",
    "import sys\n",
    "print(\"Python version\")\n",
    "print(sys.version)\n",
    "\n",
    "print(\"\\n\"+\"-\"*90+\"\\n\")\n",
    "\n",
    "print(\"Version inf: \")\n",
    "print(sys.version_info )"
   ]
  },
  {
   "cell_type": "code",
   "execution_count": 9,
   "id": "578cf5ee",
   "metadata": {},
   "outputs": [
    {
     "name": "stdout",
     "output_type": "stream",
     "text": [
      "Current date :  \n",
      "2024-08-29\n",
      "----------------------------------------\n",
      "Current time:  \n",
      "21:22:00\n"
     ]
    }
   ],
   "source": [
    "#Problem-9:Write a program that finds the current date & time\n",
    "\n",
    "import datetime\n",
    "now=datetime.datetime.now()\n",
    "\n",
    "print(\"Current date :  \")\n",
    "print(now.strftime(\"%Y-%m-%d\"))\n",
    "print(\"-\"*40)\n",
    "print(\"Current time:  \")\n",
    "print(now.strftime(\"%H:%M:%S\"))"
   ]
  },
  {
   "cell_type": "code",
   "execution_count": 10,
   "id": "1f681900",
   "metadata": {},
   "outputs": [
    {
     "name": "stdout",
     "output_type": "stream",
     "text": [
      "Type the year: 2024\n",
      "Type the month: 8\n",
      "\n",
      "..................................................\n",
      "\n",
      "    August 2024\n",
      "Mo Tu We Th Fr Sa Su\n",
      "          1  2  3  4\n",
      " 5  6  7  8  9 10 11\n",
      "12 13 14 15 16 17 18\n",
      "19 20 21 22 23 24 25\n",
      "26 27 28 29 30 31\n",
      "\n",
      "\n",
      "NOTE:5th August is a black day for Bangladesh Awami League which Bangladesh Awami League will never forget\n"
     ]
    }
   ],
   "source": [
    "#Problem-10:Write a program that finds the specific year and month\n",
    "\n",
    "import calendar\n",
    "n1=int (input(\"Type the year: \"))\n",
    "n2=int (input(\"Type the month: \"))\n",
    "print(\"\\n\" +\".\"*50 + \"\\n\")\n",
    "print(calendar.month(n1, n2))\n",
    "print(\"\\nNOTE:5th August is a black day for Bangladesh Awami League which Bangladesh Awami League will never forget\")"
   ]
  },
  {
   "cell_type": "code",
   "execution_count": 11,
   "id": "07750428",
   "metadata": {},
   "outputs": [
    {
     "name": "stdout",
     "output_type": "stream",
     "text": [
      "The answer : 8 days, 0:00:00\n"
     ]
    }
   ],
   "source": [
    "#Problem-11:Write a program that finds the diffrent between two date\n",
    "\n",
    "from datetime import date\n",
    "first_date=date(2014,7,3)\n",
    "sec_date=date(2014,7,11)\n",
    "\n",
    "total_diffrent=sec_date - first_date\n",
    "\n",
    "print(f\"The answer : {total_diffrent}\")"
   ]
  },
  {
   "cell_type": "code",
   "execution_count": 12,
   "id": "104c592f",
   "metadata": {},
   "outputs": [
    {
     "name": "stdout",
     "output_type": "stream",
     "text": [
      "\n",
      "\n",
      "Find the area of circle given to solve:  \n",
      "Provide a value for radious : 4\n",
      "\n",
      "..................................................\n",
      "\n",
      "Area for circle for 4.0 is :  50.27\n",
      "\n",
      "Answer:50.27\n"
     ]
    }
   ],
   "source": [
    "#Problem-12:It is repeated code[just checke for pre code,from math import pi be needed first one time]\n",
    "\n",
    "import math\n",
    "print(\"\\n\\nFind the area of circle given to solve:  \")\n",
    "\n",
    "r = float(input(\"Provide a value for radious : \"))\n",
    "Area=pi*r**2\n",
    "\n",
    "print(\"\\n\" +\".\"*50 + \"\\n\")\n",
    "\n",
    "print(f\"Area for circle for {r} is :  {Area:.2f}\\n\")\n",
    "print(f\"Answer:{Area:.2f}\")"
   ]
  },
  {
   "cell_type": "code",
   "execution_count": 1,
   "id": "90d5e0b1",
   "metadata": {},
   "outputs": [
    {
     "name": "stdout",
     "output_type": "stream",
     "text": [
      "Original set elements:\n",
      "{'White', 'Black', 'Red'}\n",
      "{'Red', 'Green'}\n",
      "\n",
      "Difference of color_list_1 and color_list_2:\n",
      "{'White', 'Black'}\n",
      "\n",
      "Difference of color_list_2 and color_list_1:\n",
      "{'Green'}\n"
     ]
    }
   ],
   "source": [
    "# Write a Python program that prints out all colors from color_list_1 that are not present in color_list_2.\n",
    "# Create two sets, color_list_1 and color_list_2.\n",
    "color_list_1 = set([\"White\", \"Black\", \"Red\"])\n",
    "color_list_2 = set([\"Red\", \"Green\"])\n",
    "\n",
    "# Print the original elements of the sets.\n",
    "print(\"Original set elements:\")\n",
    "print(color_list_1)\n",
    "print(color_list_2)\n",
    "\n",
    "# Calculate and print the difference of color_list_1 and color_list_2.\n",
    "print(\"\\nDifference of color_list_1 and color_list_2:\")\n",
    "print(color_list_1.difference(color_list_2))\n",
    "\n",
    "# Calculate and print the difference of color_list_2 and color_list_1.\n",
    "print(\"\\nDifference of color_list_2 and color_list_1:\")\n",
    "print(color_list_2.difference(color_list_1))\n"
   ]
  },
  {
   "cell_type": "code",
   "execution_count": null,
   "id": "d3e1cdf4",
   "metadata": {},
   "outputs": [],
   "source": []
  }
 ],
 "metadata": {
  "kernelspec": {
   "display_name": "Python 3 (ipykernel)",
   "language": "python",
   "name": "python3"
  },
  "language_info": {
   "codemirror_mode": {
    "name": "ipython",
    "version": 3
   },
   "file_extension": ".py",
   "mimetype": "text/x-python",
   "name": "python",
   "nbconvert_exporter": "python",
   "pygments_lexer": "ipython3",
   "version": "3.11.4"
  }
 },
 "nbformat": 4,
 "nbformat_minor": 5
}
