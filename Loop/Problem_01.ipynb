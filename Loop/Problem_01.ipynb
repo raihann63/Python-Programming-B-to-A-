{
 "cells": [
  {
   "cell_type": "markdown",
   "id": "21952699",
   "metadata": {},
   "source": [
    "# 𝑭𝒐𝒓 𝑳𝒐𝒐𝒑 𝑷𝒓𝒐𝒃𝒍𝒆𝒎"
   ]
  },
  {
   "cell_type": "code",
   "execution_count": 1,
   "id": "c75818f1",
   "metadata": {},
   "outputs": [
    {
     "name": "stdout",
     "output_type": "stream",
     "text": [
      "Enter the value of n: 10\n",
      "The first 10 natural numbers are:\n",
      "1 2 3 4 5 6 7 8 9 10 \n"
     ]
    }
   ],
   "source": [
    "#Problem-11: Write a program that prints the first `n` natural numbers.\n",
    "\n",
    "# Print the first n natural numbers\n",
    "n = int(input(\"Enter the value of n: \"))\n",
    "\n",
    "print(\"The first\", n, \"natural numbers are:\")\n",
    "for i in range(1, n + 1):\n",
    "    print(i, end=\" \")\n",
    "print()  # Move to the next line after printing all numbers"
   ]
  },
  {
   "cell_type": "code",
   "execution_count": 2,
   "id": "02636a82",
   "metadata": {},
   "outputs": [
    {
     "name": "stdout",
     "output_type": "stream",
     "text": [
      "Enter a number: 5\n",
      "The factorial of 5 is: 120\n"
     ]
    }
   ],
   "source": [
    "#Problem-12: Write a program that calculates the factorial of a number.\n",
    "\n",
    "# Calculate the factorial of a number using a for loop\n",
    "number = int(input(\"Enter a number: \"))\n",
    "\n",
    "factorial = 1\n",
    "for i in range(1, number + 1):\n",
    "    factorial = factorial * i\n",
    "    #factorial *= i\n",
    "\n",
    "print(\"The factorial of\", number, \"is:\", factorial)"
   ]
  },
  {
   "cell_type": "code",
   "execution_count": 3,
   "id": "5aaf622a",
   "metadata": {},
   "outputs": [
    {
     "name": "stdout",
     "output_type": "stream",
     "text": [
      "Enter the length of the Fibonacci sequence: 7\n",
      "Fibonacci sequence of length 7 is:\n",
      "0 1 1 2 3 5 8 \n"
     ]
    }
   ],
   "source": [
    "#Problem-13: Write a program that generates a Fibonacci sequence of length `n`.\n",
    "\n",
    "n = int(input(\"Enter the length of the Fibonacci sequence: \"))\n",
    "# Start with the first two numbers in the Fibonacci sequence\n",
    "a, b = 0, 1\n",
    "\n",
    "print(\"Fibonacci sequence of length\", n, \"is:\")\n",
    "\n",
    "# Generate the sequence\n",
    "for _ in range(n):\n",
    "    print(a, end=\" \")  # Print the current number\n",
    "    # Update a and b to the next numbers in the sequence\n",
    "    a, b = b, a + b\n",
    "\n",
    "print()  # Print a newline after the sequence"
   ]
  },
  {
   "cell_type": "code",
   "execution_count": 4,
   "id": "392afe7b",
   "metadata": {},
   "outputs": [
    {
     "name": "stdout",
     "output_type": "stream",
     "text": [
      "Enter a number: 43\n",
      "43 is a prime number.\n"
     ]
    }
   ],
   "source": [
    "#Problem-14: Write a program that checks if a given number is prime or not.\n",
    "\n",
    "num = int(input(\"Enter a number: \"))\n",
    "# Check if the number is prime\n",
    "if num <= 1:\n",
    "    print(f\"{num} is not a prime number.\")\n",
    "else:\n",
    "    is_prime = True\n",
    "    for i in range(2, int(num ** 0.5) + 1):\n",
    "        if num % i == 0:\n",
    "            is_prime = False\n",
    "            break\n",
    "    if is_prime:\n",
    "        print(f\"{num} is a prime number.\")\n",
    "    else:\n",
    "        print(f\"{num} is not a prime number.\")"
   ]
  },
  {
   "cell_type": "code",
   "execution_count": 5,
   "id": "b5fead14",
   "metadata": {},
   "outputs": [
    {
     "name": "stdout",
     "output_type": "stream",
     "text": [
      "Enter a number: 7\n",
      "Multiplication table for 7:\n",
      "7 x 1 = 7\n",
      "7 x 2 = 14\n",
      "7 x 3 = 21\n",
      "7 x 4 = 28\n",
      "7 x 5 = 35\n",
      "7 x 6 = 42\n",
      "7 x 7 = 49\n",
      "7 x 8 = 56\n",
      "7 x 9 = 63\n",
      "7 x 10 = 70\n"
     ]
    }
   ],
   "source": [
    "#Problem-15: Write a program that prints the multiplication table of a given number.\n",
    "\n",
    "num = int(input(\"Enter a number: \"))\n",
    "\n",
    "# Print the multiplication table\n",
    "print(f\"Multiplication table for {num}:\")\n",
    "for i in range(1, 11):\n",
    "    print(f\"{num} x {i} = {num * i}\")"
   ]
  },
  {
   "cell_type": "markdown",
   "id": "54bdbeb9",
   "metadata": {},
   "source": [
    "# 𝑾𝒉𝒊𝒍𝒆 𝑳𝒐𝒐𝒑 𝑷𝒓𝒐𝒃𝒍𝒆𝒎"
   ]
  },
  {
   "cell_type": "code",
   "execution_count": 6,
   "id": "096bc6b2",
   "metadata": {},
   "outputs": [
    {
     "name": "stdout",
     "output_type": "stream",
     "text": [
      "Enter a number n: 6\n",
      "The sum of all even numbers between 1 and 6 is: 12\n"
     ]
    }
   ],
   "source": [
    "#Problem-16: Write a program that finds the sum of all even numbers between 1 and `n`.\n",
    "\n",
    "n = int(input(\"Enter a number n: \"))\n",
    "sum_even = 0\n",
    "i = 1\n",
    "\n",
    "while i <= n:\n",
    "    if i % 2 == 0:\n",
    "        sum_even += i\n",
    "    i += 1\n",
    "\n",
    "print(f\"The sum of all even numbers between 1 and {n} is: {sum_even}\")"
   ]
  },
  {
   "cell_type": "code",
   "execution_count": 7,
   "id": "f4d09886",
   "metadata": {},
   "outputs": [
    {
     "name": "stdout",
     "output_type": "stream",
     "text": [
      "Enter a number: 575\n",
      "Reversed number is: 575\n"
     ]
    }
   ],
   "source": [
    "#Problem-17: Write a program that reverses a given number.\n",
    "\n",
    "# Input: Enter the number to reverse\n",
    "number = int(input(\"Enter a number: \"))\n",
    "\n",
    "# Initialize variables\n",
    "reversed_number = 0\n",
    "\n",
    "# Reverse the number\n",
    "while number > 0:\n",
    "    digit = number % 10\n",
    "    reversed_number = reversed_number * 10 + digit\n",
    "    number = number // 10\n",
    "\n",
    "# Output: Print the reversed number\n",
    "print(f\"Reversed number is: {reversed_number}\")"
   ]
  },
  {
   "cell_type": "code",
   "execution_count": 8,
   "id": "8708e4b4",
   "metadata": {},
   "outputs": [
    {
     "name": "stdout",
     "output_type": "stream",
     "text": [
      "Enter a string: ABBA\n",
      "ABBA is a palindrome.\n"
     ]
    }
   ],
   "source": [
    "#Problem-18: Write a program that checks if a given string, is a palindrome.\n",
    "\n",
    "# Input from the user\n",
    "string = input(\"Enter a string: \")\n",
    "original_string = string\n",
    "reversed_string = \"\"\n",
    "\n",
    "index = len(string) - 1\n",
    "\n",
    "while index >= 0:\n",
    "    reversed_string += string[index]\n",
    "    index -= 1\n",
    "\n",
    "if original_string == reversed_string:\n",
    "    print(f\"{original_string} is a palindrome.\")\n",
    "else:\n",
    "    print(f\"{original_string} is not a palindrome.\")"
   ]
  },
  {
   "cell_type": "code",
   "execution_count": 9,
   "id": "50273120",
   "metadata": {},
   "outputs": [
    {
     "name": "stdout",
     "output_type": "stream",
     "text": [
      "Enter first number (a): 48\n",
      "Enter second number (b): 12\n",
      "The greatest common divisor (GCD) is: 12\n"
     ]
    }
   ],
   "source": [
    "#Problem-19: Write a program that finds the greatest common divisor (GCD) of two numbers.\n",
    "\n",
    "# Input from the user\n",
    "a = int(input(\"Enter first number (a): \"))\n",
    "b = int(input(\"Enter second number (b): \"))\n",
    "\n",
    "while b != 0:\n",
    "    temp = b\n",
    "    b = a % b\n",
    "    a = temp\n",
    "\n",
    "print(f\"The greatest common divisor (GCD) is: {a}\")"
   ]
  },
  {
   "cell_type": "code",
   "execution_count": 10,
   "id": "3203c0cd",
   "metadata": {},
   "outputs": [
    {
     "name": "stdout",
     "output_type": "stream",
     "text": [
      "Guess the number between 1 and 100!\n",
      "Enter your guess: 6\n",
      "Too low! Try again.\n",
      "Enter your guess: 33\n",
      "Too low! Try again.\n",
      "Enter your guess: 44\n",
      "Too high! Try again.\n",
      "Enter your guess: 43\n",
      "Too high! Try again.\n",
      "Enter your guess: 37\n",
      "Too low! Try again.\n",
      "Enter your guess: 41\n",
      "Congratulations! You've guessed the correct number! \n"
     ]
    }
   ],
   "source": [
    "#Problem-20: Write a program that generates a random number and allows the user to guess it.\n",
    "\n",
    "import random\n",
    "\n",
    "# Generate a random number between 1 and 100\n",
    "random_number = random.randint(1, 100)\n",
    "guess = 0\n",
    "\n",
    "print(\"Guess the number between 1 and 100!\")\n",
    "\n",
    "while guess != random_number:\n",
    "    guess = int(input(\"Enter your guess: \"))\n",
    "    \n",
    "    if guess < random_number:\n",
    "        print(\"Too low! Try again.\")\n",
    "    elif guess > random_number:\n",
    "        print(\"Too high! Try again.\")\n",
    "\n",
    "print(\"Congratulations! You've guessed the correct number! \")"
   ]
  },
  {
   "cell_type": "code",
   "execution_count": null,
   "id": "107b58b8",
   "metadata": {},
   "outputs": [],
   "source": []
  }
 ],
 "metadata": {
  "kernelspec": {
   "display_name": "Python 3 (ipykernel)",
   "language": "python",
   "name": "python3"
  },
  "language_info": {
   "codemirror_mode": {
    "name": "ipython",
    "version": 3
   },
   "file_extension": ".py",
   "mimetype": "text/x-python",
   "name": "python",
   "nbconvert_exporter": "python",
   "pygments_lexer": "ipython3",
   "version": "3.11.4"
  }
 },
 "nbformat": 4,
 "nbformat_minor": 5
}
