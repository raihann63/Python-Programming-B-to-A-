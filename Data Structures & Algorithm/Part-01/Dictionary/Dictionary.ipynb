{
 "cells": [
  {
   "cell_type": "code",
   "execution_count": 1,
   "id": "33d2613e",
   "metadata": {},
   "outputs": [
    {
     "name": "stdout",
     "output_type": "stream",
     "text": [
      "Alice\n"
     ]
    }
   ],
   "source": [
    "#String Key\n",
    "my_dict = {\"name\": \"Alice\", \n",
    "           \"age\": 25\n",
    "          }\n",
    "print(my_dict[\"name\"])  # Output: Alice\n"
   ]
  },
  {
   "cell_type": "code",
   "execution_count": 2,
   "id": "fe15d8c4",
   "metadata": {},
   "outputs": [
    {
     "name": "stdout",
     "output_type": "stream",
     "text": [
      "apple\n"
     ]
    }
   ],
   "source": [
    "#Int Key\n",
    "my_dict = {1: \"apple\", \n",
    "           2: \"banana\"\n",
    "          }\n",
    "print(my_dict[1])  # Output: apple\n"
   ]
  },
  {
   "cell_type": "code",
   "execution_count": 3,
   "id": "88a192d9",
   "metadata": {},
   "outputs": [
    {
     "name": "stdout",
     "output_type": "stream",
     "text": [
      "Bob\n",
      "[2, 4, 3]\n"
     ]
    }
   ],
   "source": [
    "#Mixed Key\n",
    "my_dict = {\"name\": \"Bob\", \n",
    "           1: [2, 4, 3]\n",
    "          }\n",
    "print(my_dict[\"name\"])  # Output: Bob\n",
    "print(my_dict[1])  # Output: [2, 4, 3]\n"
   ]
  },
  {
   "cell_type": "code",
   "execution_count": 4,
   "id": "d191b55b",
   "metadata": {},
   "outputs": [
    {
     "name": "stdout",
     "output_type": "stream",
     "text": [
      "{'name': 'Charlie', 'age': 30}\n"
     ]
    }
   ],
   "source": [
    "#Constructor\n",
    "my_dict = dict(name=\"Charlie\", \n",
    "               age=30)\n",
    "print(my_dict)  # Output: {'name': 'Charlie', 'age': 30}\n"
   ]
  },
  {
   "cell_type": "code",
   "execution_count": 5,
   "id": "aaeb50c2",
   "metadata": {},
   "outputs": [
    {
     "name": "stdout",
     "output_type": "stream",
     "text": [
      "name: David\n",
      "age: 40\n"
     ]
    }
   ],
   "source": [
    "#Pair\n",
    "my_dict = {\"name\": \"David\", \n",
    "           \"age\": 40\n",
    "          }\n",
    "for key, value in my_dict.items():\n",
    "    print(f\"{key}: {value}\")\n",
    "# Output:\n",
    "# name: David\n",
    "# age: 40\n"
   ]
  },
  {
   "cell_type": "code",
   "execution_count": 6,
   "id": "e329e894",
   "metadata": {},
   "outputs": [
    {
     "name": "stdout",
     "output_type": "stream",
     "text": [
      "Eve\n"
     ]
    }
   ],
   "source": [
    "#Nested Dictionary\n",
    "my_dict = {\"person\": {\"name\": \"Eve\", \"age\": 35}, \n",
    "           \"city\": \"New York\"\n",
    "          }\n",
    "print(my_dict[\"person\"][\"name\"])  # Output: Eve\n"
   ]
  },
  {
   "cell_type": "code",
   "execution_count": 7,
   "id": "1051ca62",
   "metadata": {},
   "outputs": [
    {
     "name": "stdout",
     "output_type": "stream",
     "text": [
      "28\n"
     ]
    }
   ],
   "source": [
    "#Accessing Values\n",
    "my_dict = {\"name\": \"Frank\", \n",
    "           \"age\": 28\n",
    "          }\n",
    "print(my_dict[\"age\"])  # Output: 28\n"
   ]
  },
  {
   "cell_type": "code",
   "execution_count": 8,
   "id": "8e053999",
   "metadata": {},
   "outputs": [
    {
     "name": "stdout",
     "output_type": "stream",
     "text": [
      "{'name': 'Grace', 'age': 22}\n"
     ]
    }
   ],
   "source": [
    "#Add Value\n",
    "my_dict = {\"name\": \"Grace\"}\n",
    "my_dict[\"age\"] = 22\n",
    "print(my_dict)  # Output: {'name': 'Grace', 'age': 22}\n"
   ]
  },
  {
   "cell_type": "code",
   "execution_count": 9,
   "id": "81788481",
   "metadata": {},
   "outputs": [
    {
     "name": "stdout",
     "output_type": "stream",
     "text": [
      "{'name': 'Hank', 'age': 46}\n"
     ]
    }
   ],
   "source": [
    "#Change Value\n",
    "my_dict = {\"name\": \"Hank\", \n",
    "           \"age\": 45\n",
    "          }\n",
    "my_dict[\"age\"] = 46\n",
    "print(my_dict)  # Output: {'name': 'Hank', 'age': 46}\n"
   ]
  },
  {
   "cell_type": "code",
   "execution_count": 10,
   "id": "49f4f7c1",
   "metadata": {},
   "outputs": [
    {
     "name": "stdout",
     "output_type": "stream",
     "text": [
      "{'name': 'Ivy'}\n"
     ]
    }
   ],
   "source": [
    "#Delete Value\n",
    "my_dict = {\"name\": \"Ivy\", \n",
    "           \"age\": 32\n",
    "          }\n",
    "del my_dict[\"age\"]\n",
    "print(my_dict)  # Output: {'name': 'Ivy'}\n"
   ]
  },
  {
   "cell_type": "code",
   "execution_count": 11,
   "id": "a00e30f2",
   "metadata": {},
   "outputs": [
    {
     "name": "stdout",
     "output_type": "stream",
     "text": [
      "{'name': 'Jack', 'age': 27}\n"
     ]
    }
   ],
   "source": [
    "#Copy Dictionary\n",
    "my_dict = {\"name\": \"Jack\", \n",
    "           \"age\": 27\n",
    "          }\n",
    "new_dict = my_dict.copy()\n",
    "print(new_dict)  # Output: {'name': 'Jack', 'age': 27}\n"
   ]
  },
  {
   "cell_type": "code",
   "execution_count": 12,
   "id": "4cf076f4",
   "metadata": {},
   "outputs": [
    {
     "name": "stdout",
     "output_type": "stream",
     "text": [
      "name Kate\n",
      "age 31\n"
     ]
    }
   ],
   "source": [
    "#Loop\n",
    "my_dict = {\"name\": \"Kate\", \n",
    "           \"age\": 31\n",
    "          }\n",
    "for key in my_dict:\n",
    "    print(key, my_dict[key])\n",
    "# Output:\n",
    "# name Kate\n",
    "# age 31\n"
   ]
  },
  {
   "cell_type": "code",
   "execution_count": 13,
   "id": "dc43f984",
   "metadata": {},
   "outputs": [
    {
     "name": "stdout",
     "output_type": "stream",
     "text": [
      "True\n",
      "False\n"
     ]
    }
   ],
   "source": [
    "#Membership\n",
    "my_dict = {\"name\": \"Leo\", \n",
    "           \"age\": 34\n",
    "          }\n",
    "print(\"name\" in my_dict)  # Output: True\n",
    "print(\"address\" in my_dict)  # Output: False\n"
   ]
  },
  {
   "cell_type": "code",
   "execution_count": null,
   "id": "614696b4",
   "metadata": {},
   "outputs": [],
   "source": []
  }
 ],
 "metadata": {
  "kernelspec": {
   "display_name": "Python 3 (ipykernel)",
   "language": "python",
   "name": "python3"
  },
  "language_info": {
   "codemirror_mode": {
    "name": "ipython",
    "version": 3
   },
   "file_extension": ".py",
   "mimetype": "text/x-python",
   "name": "python",
   "nbconvert_exporter": "python",
   "pygments_lexer": "ipython3",
   "version": "3.11.4"
  }
 },
 "nbformat": 4,
 "nbformat_minor": 5
}
