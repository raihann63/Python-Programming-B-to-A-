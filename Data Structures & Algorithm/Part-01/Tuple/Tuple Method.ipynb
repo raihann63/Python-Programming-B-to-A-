{
 "cells": [
  {
   "cell_type": "code",
   "execution_count": 1,
   "id": "e95ac904",
   "metadata": {},
   "outputs": [
    {
     "name": "stdout",
     "output_type": "stream",
     "text": [
      "4\n"
     ]
    }
   ],
   "source": [
    "#len()\n",
    "my_tuple = (1, 2, 3, 4)\n",
    "print(len(my_tuple))  # Output: 4\n"
   ]
  },
  {
   "cell_type": "code",
   "execution_count": 2,
   "id": "431441ff",
   "metadata": {},
   "outputs": [
    {
     "name": "stdout",
     "output_type": "stream",
     "text": [
      "4\n"
     ]
    }
   ],
   "source": [
    "#max()\n",
    "my_tuple = (1, 2, 3, 4)\n",
    "print(max(my_tuple))  # Output: 4\n"
   ]
  },
  {
   "cell_type": "code",
   "execution_count": 3,
   "id": "4cf3289c",
   "metadata": {},
   "outputs": [
    {
     "name": "stdout",
     "output_type": "stream",
     "text": [
      "1\n"
     ]
    }
   ],
   "source": [
    "#min()\n",
    "my_tuple = (1, 2, 3, 4)\n",
    "print(min(my_tuple))  # Output: 1\n"
   ]
  },
  {
   "cell_type": "code",
   "execution_count": 4,
   "id": "00033231",
   "metadata": {},
   "outputs": [
    {
     "name": "stdout",
     "output_type": "stream",
     "text": [
      "10\n"
     ]
    }
   ],
   "source": [
    "#sum()\n",
    "my_tuple = (1, 2, 3, 4)\n",
    "print(sum(my_tuple))  # Output: 10\n"
   ]
  },
  {
   "cell_type": "code",
   "execution_count": 5,
   "id": "f8c34136",
   "metadata": {},
   "outputs": [
    {
     "name": "stdout",
     "output_type": "stream",
     "text": [
      "2\n"
     ]
    }
   ],
   "source": [
    "#index()\n",
    "my_tuple = (1, 2, 3, 4)\n",
    "print(my_tuple.index(3))  # Output: 2\n"
   ]
  },
  {
   "cell_type": "code",
   "execution_count": 6,
   "id": "f0460822",
   "metadata": {},
   "outputs": [
    {
     "name": "stdout",
     "output_type": "stream",
     "text": [
      "[1, 2, 3, 4]\n"
     ]
    }
   ],
   "source": [
    "#sorted()\n",
    "my_tuple = (4, 1, 3, 2)\n",
    "print(sorted(my_tuple))  # Output: [1, 2, 3, 4]\n"
   ]
  },
  {
   "cell_type": "code",
   "execution_count": 7,
   "id": "f9b8d196",
   "metadata": {},
   "outputs": [
    {
     "name": "stdout",
     "output_type": "stream",
     "text": [
      "3\n"
     ]
    }
   ],
   "source": [
    "#count()\n",
    "my_tuple = (1, 2, 3, 1, 2, 1)\n",
    "print(my_tuple.count(1))  # Output: 3\n"
   ]
  },
  {
   "cell_type": "code",
   "execution_count": null,
   "id": "0cd19081",
   "metadata": {},
   "outputs": [],
   "source": []
  }
 ],
 "metadata": {
  "kernelspec": {
   "display_name": "Python 3 (ipykernel)",
   "language": "python",
   "name": "python3"
  },
  "language_info": {
   "codemirror_mode": {
    "name": "ipython",
    "version": 3
   },
   "file_extension": ".py",
   "mimetype": "text/x-python",
   "name": "python",
   "nbconvert_exporter": "python",
   "pygments_lexer": "ipython3",
   "version": "3.11.4"
  }
 },
 "nbformat": 4,
 "nbformat_minor": 5
}
