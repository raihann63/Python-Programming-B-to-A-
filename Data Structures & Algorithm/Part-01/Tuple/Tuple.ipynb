{
 "cells": [
  {
   "cell_type": "code",
   "execution_count": 1,
   "id": "8fb76052",
   "metadata": {},
   "outputs": [
    {
     "name": "stdout",
     "output_type": "stream",
     "text": [
      "(1, 2, 3)\n"
     ]
    }
   ],
   "source": [
    "#Constructor\n",
    "my_tuple = tuple([1, 2, 3])\n",
    "print(my_tuple)  # Output: (1, 2, 3)"
   ]
  },
  {
   "cell_type": "code",
   "execution_count": 2,
   "id": "bc319421",
   "metadata": {},
   "outputs": [
    {
     "name": "stdout",
     "output_type": "stream",
     "text": [
      "1 2 3\n"
     ]
    }
   ],
   "source": [
    "#Tuple Magic (Unpacking)\n",
    "my_tuple = (1, 2, 3)\n",
    "a, b, c = my_tuple\n",
    "print(a, b, c)  # Output: 1 2 3\n"
   ]
  },
  {
   "cell_type": "code",
   "execution_count": 3,
   "id": "75786886",
   "metadata": {},
   "outputs": [
    {
     "name": "stdout",
     "output_type": "stream",
     "text": [
      "(1, (2, 3), 4)\n"
     ]
    }
   ],
   "source": [
    "#Nested Tuple\n",
    "nested_tuple = (1, (2, 3), 4)\n",
    "print(nested_tuple)  # Output: (1, (2, 3), 4)\n"
   ]
  },
  {
   "cell_type": "code",
   "execution_count": 4,
   "id": "fe15f3ce",
   "metadata": {},
   "outputs": [
    {
     "name": "stdout",
     "output_type": "stream",
     "text": [
      "2\n"
     ]
    }
   ],
   "source": [
    "#Positive Index\n",
    "my_tuple = (1, 2, 3, 4)\n",
    "print(my_tuple[1])  # Output: 2\n"
   ]
  },
  {
   "cell_type": "code",
   "execution_count": 5,
   "id": "b1e06f82",
   "metadata": {},
   "outputs": [
    {
     "name": "stdout",
     "output_type": "stream",
     "text": [
      "4\n"
     ]
    }
   ],
   "source": [
    "#Negative Index\n",
    "my_tuple = (1, 2, 3, 4)\n",
    "print(my_tuple[-1])  # Output: 4\n"
   ]
  },
  {
   "cell_type": "code",
   "execution_count": 6,
   "id": "dab4d670",
   "metadata": {},
   "outputs": [
    {
     "name": "stdout",
     "output_type": "stream",
     "text": [
      "(2, 3)\n"
     ]
    }
   ],
   "source": [
    "# Range / Slice\n",
    "my_tuple = (1, 2, 3, 4, 5)\n",
    "print(my_tuple[1:3])  # Output: (2, 3)\n"
   ]
  },
  {
   "cell_type": "code",
   "execution_count": 7,
   "id": "e4915f96",
   "metadata": {},
   "outputs": [],
   "source": [
    "'''Add / Change / Delete\n",
    "Add: Tuples are immutable, so you cannot add elements to an existing tuple.\n",
    "Change: Tuples are immutable, so you cannot change elements in a tuple.\n",
    "Delete: You can delete the entire tuple using del.'''\n",
    "\n",
    "my_tuple = (1, 2, 3)\n",
    "del my_tuple\n"
   ]
  },
  {
   "cell_type": "code",
   "execution_count": 8,
   "id": "2e19b30a",
   "metadata": {},
   "outputs": [
    {
     "name": "stdout",
     "output_type": "stream",
     "text": [
      "1\n",
      "2\n",
      "3\n"
     ]
    }
   ],
   "source": [
    "#Loop\n",
    "my_tuple = (1, 2, 3)\n",
    "for item in my_tuple:\n",
    "    print(item)\n",
    "# Output:\n",
    "# 1\n",
    "# 2\n",
    "# 3\n"
   ]
  },
  {
   "cell_type": "code",
   "execution_count": 9,
   "id": "a4495bb4",
   "metadata": {},
   "outputs": [
    {
     "name": "stdout",
     "output_type": "stream",
     "text": [
      "True\n"
     ]
    }
   ],
   "source": [
    "#Membership\n",
    "my_tuple = (1, 2, 3)\n",
    "print(2 in my_tuple)  # Output: True\n"
   ]
  },
  {
   "cell_type": "code",
   "execution_count": 10,
   "id": "492534bd",
   "metadata": {},
   "outputs": [
    {
     "name": "stdout",
     "output_type": "stream",
     "text": [
      "(1, 2, 3, 1, 2, 3)\n"
     ]
    }
   ],
   "source": [
    "# Repetition\n",
    "my_tuple = (1, 2, 3)\n",
    "repeated_tuple = my_tuple * 2\n",
    "print(repeated_tuple)  # Output: (1, 2, 3, 1, 2, 3)\n"
   ]
  },
  {
   "cell_type": "code",
   "execution_count": 11,
   "id": "d07614e9",
   "metadata": {},
   "outputs": [
    {
     "name": "stdout",
     "output_type": "stream",
     "text": [
      "(1, 2, 3, 4, 5, 6)\n"
     ]
    }
   ],
   "source": [
    "# Concatenation\n",
    "tuple1 = (1, 2, 3)\n",
    "tuple2 = (4, 5, 6)\n",
    "concatenated_tuple = tuple1 + tuple2\n",
    "print(concatenated_tuple)  # Output: (1, 2, 3, 4, 5, 6)\n"
   ]
  },
  {
   "cell_type": "code",
   "execution_count": null,
   "id": "3bd03767",
   "metadata": {},
   "outputs": [],
   "source": []
  }
 ],
 "metadata": {
  "kernelspec": {
   "display_name": "Python 3 (ipykernel)",
   "language": "python",
   "name": "python3"
  },
  "language_info": {
   "codemirror_mode": {
    "name": "ipython",
    "version": 3
   },
   "file_extension": ".py",
   "mimetype": "text/x-python",
   "name": "python",
   "nbconvert_exporter": "python",
   "pygments_lexer": "ipython3",
   "version": "3.11.4"
  }
 },
 "nbformat": 4,
 "nbformat_minor": 5
}
