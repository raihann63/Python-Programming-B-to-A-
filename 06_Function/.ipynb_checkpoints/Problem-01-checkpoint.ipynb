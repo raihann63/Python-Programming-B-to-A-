{
 "cells": [
  {
   "cell_type": "markdown",
   "id": "6beb129c",
   "metadata": {},
   "source": [
    "# 𝑪𝒐𝒎𝒎𝒐𝒏𝒍𝒚 𝒖𝒔𝒆𝒅 𝒃𝒖𝒊𝒍𝒕-𝒊𝒏 𝒇𝒖𝒏𝒄𝒕𝒊𝒐𝒏𝒔 𝒊𝒏 𝑷𝒚𝒕𝒉𝒐𝒏"
   ]
  },
  {
   "cell_type": "code",
   "execution_count": 1,
   "id": "ca68f193",
   "metadata": {},
   "outputs": [
    {
     "name": "stdout",
     "output_type": "stream",
     "text": [
      "Hello, World!\n"
     ]
    }
   ],
   "source": [
    "#print()\n",
    "print(\"Hello, World!\")  # Output: Hello, World!\n"
   ]
  },
  {
   "cell_type": "code",
   "execution_count": 2,
   "id": "069553ed",
   "metadata": {},
   "outputs": [
    {
     "name": "stdout",
     "output_type": "stream",
     "text": [
      "5\n"
     ]
    }
   ],
   "source": [
    "#len()\n",
    "my_list = [1, 2, 3, 4, 5]\n",
    "length = len(my_list)\n",
    "print(length)  # Output: 5\n"
   ]
  },
  {
   "cell_type": "code",
   "execution_count": 3,
   "id": "5a1daa22",
   "metadata": {},
   "outputs": [
    {
     "name": "stdout",
     "output_type": "stream",
     "text": [
      "Enter something: 7\n",
      "7\n"
     ]
    }
   ],
   "source": [
    "#input()\n",
    "user_input = input(\"Enter something: \")\n",
    "print(user_input)  # If user types \"study mart\", Output: study mart\n"
   ]
  },
  {
   "cell_type": "code",
   "execution_count": 4,
   "id": "32abeb9c",
   "metadata": {},
   "outputs": [
    {
     "name": "stdout",
     "output_type": "stream",
     "text": [
      "<class 'int'>\n"
     ]
    }
   ],
   "source": [
    "#type()\n",
    "x = 5\n",
    "print(type(x))  # Output: <class 'int'>\n"
   ]
  },
  {
   "cell_type": "code",
   "execution_count": 5,
   "id": "b86f1fb4",
   "metadata": {},
   "outputs": [
    {
     "name": "stdout",
     "output_type": "stream",
     "text": [
      "42\n",
      "42.0\n"
     ]
    }
   ],
   "source": [
    "#int(), float(), str()\n",
    "\n",
    "num_str = \"42\"\n",
    "num_int = int(num_str)\n",
    "print(num_int)  # Output: 42\n",
    "print(float(num_int))  # Output: 42.0\n"
   ]
  },
  {
   "cell_type": "code",
   "execution_count": 6,
   "id": "d0c3f9a4",
   "metadata": {},
   "outputs": [
    {
     "name": "stdout",
     "output_type": "stream",
     "text": [
      "[1, 2, 3, 4, 5]\n"
     ]
    }
   ],
   "source": [
    "#range()\n",
    "numbers = list(range(1, 6))\n",
    "print(numbers)  # Output: [1, 2, 3, 4, 5]\n"
   ]
  },
  {
   "cell_type": "code",
   "execution_count": 7,
   "id": "ebffbf16",
   "metadata": {},
   "outputs": [
    {
     "name": "stdout",
     "output_type": "stream",
     "text": [
      "15\n"
     ]
    }
   ],
   "source": [
    "#sum()\n",
    "my_list = [1, 2, 3, 4, 5]\n",
    "total = sum(my_list)\n",
    "print(total)  # Output: 15\n"
   ]
  },
  {
   "cell_type": "code",
   "execution_count": 8,
   "id": "f55a5972",
   "metadata": {},
   "outputs": [
    {
     "name": "stdout",
     "output_type": "stream",
     "text": [
      "9\n",
      "1\n"
     ]
    }
   ],
   "source": [
    "#max(), min()\n",
    "numbers = [3, 1, 4, 1, 5, 9, 2]\n",
    "print(max(numbers))  # Output: 9\n",
    "print(min(numbers))  # Output: 1\n"
   ]
  },
  {
   "cell_type": "code",
   "execution_count": 9,
   "id": "929e46f7",
   "metadata": {},
   "outputs": [
    {
     "name": "stdout",
     "output_type": "stream",
     "text": [
      "10\n"
     ]
    }
   ],
   "source": [
    "#abs()\n",
    "absolute_value = abs(-10)\n",
    "print(absolute_value)  # Output: 10\n"
   ]
  },
  {
   "cell_type": "code",
   "execution_count": 10,
   "id": "f8410727",
   "metadata": {},
   "outputs": [
    {
     "name": "stdout",
     "output_type": "stream",
     "text": [
      "3.14\n"
     ]
    }
   ],
   "source": [
    "#round()\n",
    "rounded_num = round(3.14159, 2)\n",
    "print(rounded_num)  # Output: 3.14\n"
   ]
  },
  {
   "cell_type": "code",
   "execution_count": 11,
   "id": "8210ce8f",
   "metadata": {},
   "outputs": [
    {
     "name": "stdout",
     "output_type": "stream",
     "text": [
      "[1, 1, 2, 3, 4, 5, 9]\n"
     ]
    }
   ],
   "source": [
    "#sorted()\n",
    "numbers = [3, 1, 4, 1, 5, 9, 2]\n",
    "sorted_numbers = sorted(numbers)\n",
    "print(sorted_numbers)  # Output: [1, 1, 2, 3, 4, 5, 9]\n"
   ]
  },
  {
   "cell_type": "code",
   "execution_count": 12,
   "id": "746eb759",
   "metadata": {},
   "outputs": [
    {
     "name": "stdout",
     "output_type": "stream",
     "text": [
      "True\n",
      "False\n"
     ]
    }
   ],
   "source": [
    "#any(), all()\n",
    "bool_list = [True, False, True]\n",
    "print(any(bool_list))  # Output: True\n",
    "print(all(bool_list))  # Output: False\n"
   ]
  },
  {
   "cell_type": "code",
   "execution_count": 13,
   "id": "07d7f2b9",
   "metadata": {},
   "outputs": [
    {
     "name": "stdout",
     "output_type": "stream",
     "text": [
      "apple ; banana ; orange\n"
     ]
    }
   ],
   "source": [
    "#str.join()\n",
    "my_list = [\"apple\", \"banana\", \"orange\"]\n",
    "joined_str = \" ; \".join(my_list)\n",
    "print(joined_str)  # Output: apple ; banana ; orange\n"
   ]
  },
  {
   "cell_type": "code",
   "execution_count": 14,
   "id": "1d575bfb",
   "metadata": {},
   "outputs": [
    {
     "name": "stdout",
     "output_type": "stream",
     "text": [
      "hello, world!\n",
      "HELLO, WORLD!\n"
     ]
    }
   ],
   "source": [
    "#str.lower(), str.upper()\n",
    "my_string = \"Hello, World!\"\n",
    "print(my_string.lower())  # Output: hello, world!\n",
    "print(my_string.upper())  # Output: HELLO, WORLD!\n"
   ]
  },
  {
   "cell_type": "code",
   "execution_count": 15,
   "id": "421d43cc",
   "metadata": {},
   "outputs": [
    {
     "name": "stdout",
     "output_type": "stream",
     "text": [
      "[1, 2, 3]\n",
      "(1, 2, 3)\n"
     ]
    }
   ],
   "source": [
    "#list(), tuple()\n",
    "my_tuple = (1, 2, 3)\n",
    "tuple_to_list = list(my_tuple)\n",
    "print(tuple_to_list)  # Output: [1, 2, 3]\n",
    "print(tuple(tuple_to_list))  # Output: (1, 2, 3)\n"
   ]
  },
  {
   "cell_type": "code",
   "execution_count": 16,
   "id": "c6f2624e",
   "metadata": {},
   "outputs": [
    {
     "name": "stdout",
     "output_type": "stream",
     "text": [
      "{'name': 'John', 'age': 25}\n",
      "dict_keys(['name', 'age'])\n",
      "dict_values(['John', 25])\n"
     ]
    }
   ],
   "source": [
    "#dict()\n",
    "my_dict = dict(name=\"John\", age=25)\n",
    "print(my_dict)  # Output: {'name': 'John', 'age': 25}\n",
    "print(my_dict.keys())  # Output: dict_keys(['name', 'age'])\n",
    "print(my_dict.values())  # Output: dict_values(['John', 25])\n"
   ]
  },
  {
   "cell_type": "code",
   "execution_count": 17,
   "id": "2993f877",
   "metadata": {},
   "outputs": [
    {
     "name": "stdout",
     "output_type": "stream",
     "text": [
      "{1, 2, 3, 4}\n"
     ]
    }
   ],
   "source": [
    "#set()\n",
    "my_set = set([1, 2, 3, 3, 4])\n",
    "print(my_set)  # Output: {1, 2, 3, 4}\n"
   ]
  },
  {
   "cell_type": "code",
   "execution_count": 18,
   "id": "7dc23019",
   "metadata": {},
   "outputs": [
    {
     "name": "stdout",
     "output_type": "stream",
     "text": [
      "0 a\n",
      "1 b\n",
      "2 c\n"
     ]
    }
   ],
   "source": [
    "#enumerate()\n",
    "my_list = [\"a\", \"b\", \"c\"]\n",
    "for index, value in enumerate(my_list):\n",
    "    print(index, value)\n",
    "# Output:\n",
    "# 0 a\n",
    "# 1 b\n",
    "# 2 c\n"
   ]
  },
  {
   "cell_type": "code",
   "execution_count": 19,
   "id": "63c76794",
   "metadata": {},
   "outputs": [
    {
     "name": "stdout",
     "output_type": "stream",
     "text": [
      "[('Alice', 25), ('Bob', 30), ('Charlie', 22)]\n"
     ]
    }
   ],
   "source": [
    "#zip()\n",
    "names = [\"Alice\", \"Bob\", \"Charlie\"]\n",
    "ages = [25, 30, 22]\n",
    "zipped_data = zip(names, ages)\n",
    "print(list(zipped_data))  # Output: [('Alice', 25), ('Bob', 30), ('Charlie', 22)]\n"
   ]
  },
  {
   "cell_type": "code",
   "execution_count": 20,
   "id": "a6a6340e",
   "metadata": {},
   "outputs": [
    {
     "name": "stdout",
     "output_type": "stream",
     "text": [
      "[3, 2, 1]\n"
     ]
    }
   ],
   "source": [
    "#reversed()\n",
    "my_list = [1, 2, 3]\n",
    "reversed_list = list(reversed(my_list))\n",
    "print(reversed_list)  # Output: [3, 2, 1]\n"
   ]
  },
  {
   "cell_type": "code",
   "execution_count": 21,
   "id": "65bf54c5",
   "metadata": {},
   "outputs": [
    {
     "name": "stdout",
     "output_type": "stream",
     "text": [
      "106\n"
     ]
    }
   ],
   "source": [
    "#sum() (with start argument)\n",
    "numbers = [1, 2, 3]\n",
    "total = sum(numbers, 100)  # sum starting from 100\n",
    "print(total)  # Output: 106\n"
   ]
  },
  {
   "cell_type": "code",
   "execution_count": 22,
   "id": "05a8f7fa",
   "metadata": {},
   "outputs": [
    {
     "name": "stdout",
     "output_type": "stream",
     "text": [
      "5.0\n"
     ]
    }
   ],
   "source": [
    "#abs() (for complex numbers)\n",
    "complex_num = 3 + 4j\n",
    "magnitude = abs(complex_num)\n",
    "print(magnitude)  # Output: 5.0\n"
   ]
  },
  {
   "cell_type": "code",
   "execution_count": 23,
   "id": "1626959e",
   "metadata": {},
   "outputs": [
    {
     "name": "stdout",
     "output_type": "stream",
     "text": [
      "[2, 3, 4]\n"
     ]
    }
   ],
   "source": [
    "#slice()\n",
    "my_list = [1, 2, 3, 4, 5]\n",
    "my_slice = slice(1, 4)\n",
    "sliced_list = my_list[my_slice]\n",
    "print(sliced_list)  # Output: [2, 3, 4]\n"
   ]
  },
  {
   "cell_type": "code",
   "execution_count": 24,
   "id": "1acaef88",
   "metadata": {},
   "outputs": [
    {
     "data": {
      "text/plain": [
       "'€'"
      ]
     },
     "execution_count": 24,
     "metadata": {},
     "output_type": "execute_result"
    }
   ],
   "source": [
    "#chr(), ord()\n",
    "euro_symbol = chr(8364)  # returns '€'\n",
    "code_point = ord('€')  # returns 8364\n",
    "euro_symbol\n"
   ]
  },
  {
   "cell_type": "code",
   "execution_count": 25,
   "id": "78de0875",
   "metadata": {},
   "outputs": [
    {
     "data": {
      "text/plain": [
       "8364"
      ]
     },
     "execution_count": 25,
     "metadata": {},
     "output_type": "execute_result"
    }
   ],
   "source": [
    "code_point"
   ]
  },
  {
   "cell_type": "code",
   "execution_count": null,
   "id": "1e76dc1a",
   "metadata": {},
   "outputs": [],
   "source": []
  }
 ],
 "metadata": {
  "kernelspec": {
   "display_name": "Python 3 (ipykernel)",
   "language": "python",
   "name": "python3"
  },
  "language_info": {
   "codemirror_mode": {
    "name": "ipython",
    "version": 3
   },
   "file_extension": ".py",
   "mimetype": "text/x-python",
   "name": "python",
   "nbconvert_exporter": "python",
   "pygments_lexer": "ipython3",
   "version": "3.11.4"
  }
 },
 "nbformat": 4,
 "nbformat_minor": 5
}
