{
 "cells": [
  {
   "cell_type": "markdown",
   "id": "492e6107",
   "metadata": {},
   "source": [
    "# 𝑭𝒖𝒏𝒄𝒕𝒊𝒐𝒏"
   ]
  },
  {
   "cell_type": "markdown",
   "id": "33bb20ed",
   "metadata": {},
   "source": [
    "1. 𝑅𝑒𝑡𝑢𝑟𝑛:\n",
    "𝑇ℎ𝑒 𝑟𝑒𝑡𝑢𝑟𝑛 𝑠𝑡𝑎𝑡𝑒𝑚𝑒𝑛𝑡 𝑖𝑠 𝑢𝑠𝑒𝑑 𝑡𝑜 𝑠𝑒𝑛𝑑 𝑎 𝑟𝑒𝑠𝑢𝑙𝑡 𝑏𝑎𝑐𝑘 𝑓𝑟𝑜𝑚 𝑎 𝑓𝑢𝑛𝑐𝑡𝑖𝑜𝑛."
   ]
  },
  {
   "cell_type": "code",
   "execution_count": 1,
   "id": "6bfe6ee8",
   "metadata": {},
   "outputs": [
    {
     "name": "stdout",
     "output_type": "stream",
     "text": [
      "15\n"
     ]
    }
   ],
   "source": [
    "def add(a, b):\n",
    "    return a + b  # Returns the sum of a and b\n",
    "\n",
    "result = add(5, 10)\n",
    "print(result)  # Output: 15\n"
   ]
  },
  {
   "cell_type": "code",
   "execution_count": 2,
   "id": "184cc100",
   "metadata": {},
   "outputs": [
    {
     "name": "stdout",
     "output_type": "stream",
     "text": [
      "Payment successful\n"
     ]
    }
   ],
   "source": [
    "#(Real-Life Use Case: Online Payment System)\n",
    "def process_payment(amount):\n",
    "    if amount > 0:\n",
    "        return \"Payment successful\"\n",
    "    else:\n",
    "        return \"Payment failed\"\n",
    "\n",
    "status = process_payment(100)\n",
    "print(status)  # Output: Payment successful\n"
   ]
  },
  {
   "cell_type": "markdown",
   "id": "19922940",
   "metadata": {},
   "source": [
    "2. 𝐴𝑟𝑔𝑢𝑚𝑒𝑛𝑡𝑠: \n",
    "𝐴𝑟𝑔𝑢𝑚𝑒𝑛𝑡𝑠 𝑎𝑟𝑒 𝑡ℎ𝑒 𝑣𝑎𝑙𝑢𝑒𝑠 𝑦𝑜𝑢 𝑝𝑎𝑠𝑠 𝑖𝑛𝑡𝑜 𝑡ℎ𝑒 𝑓𝑢𝑛𝑐𝑡𝑖𝑜𝑛 𝑤ℎ𝑒𝑛 𝑐𝑎𝑙𝑙𝑖𝑛𝑔 𝑖𝑡."
   ]
  },
  {
   "cell_type": "code",
   "execution_count": 3,
   "id": "c90cbe11",
   "metadata": {},
   "outputs": [
    {
     "name": "stdout",
     "output_type": "stream",
     "text": [
      "Hello, Raihan\n"
     ]
    }
   ],
   "source": [
    "def greet(name):\n",
    "    print(\"Hello, \" + name)\n",
    "\n",
    "greet(\"Raihan\")  # Output: Hello, Raihan\n"
   ]
  },
  {
   "cell_type": "code",
   "execution_count": 4,
   "id": "2985f2ac",
   "metadata": {},
   "outputs": [
    {
     "name": "stdout",
     "output_type": "stream",
     "text": [
      "Login successful\n"
     ]
    }
   ],
   "source": [
    "#(Real-Life Use Case: Login System)\n",
    "def login(username, password):\n",
    "    if username == \"Raihan\" and password == \"1234\":\n",
    "        print(\"Login successful\")\n",
    "    else:\n",
    "        print(\"Login failed\")\n",
    "\n",
    "login(\"Raihan\", \"1234\")  # Output: Login successful\n"
   ]
  },
  {
   "cell_type": "markdown",
   "id": "ed583bd4",
   "metadata": {},
   "source": [
    "3. 𝑃𝑎𝑟𝑎𝑚𝑒𝑡𝑒𝑟𝑠 :\n",
    "𝑃𝑎𝑟𝑎𝑚𝑒𝑡𝑒𝑟𝑠 𝑎𝑟𝑒 𝑡ℎ𝑒 𝑣𝑎𝑟𝑖𝑎𝑏𝑙𝑒𝑠 𝑑𝑒𝑓𝑖𝑛𝑒𝑑 𝑖𝑛 𝑡ℎ𝑒 𝑓𝑢𝑛𝑐𝑡𝑖𝑜𝑛'𝑠 𝑠𝑖𝑔𝑛𝑎𝑡𝑢𝑟𝑒 𝑡ℎ𝑎𝑡 𝑎𝑐𝑐𝑒𝑝𝑡 𝑡ℎ𝑒 𝑎𝑟𝑔𝑢𝑚𝑒𝑛𝑡𝑠."
   ]
  },
  {
   "cell_type": "code",
   "execution_count": 5,
   "id": "a2843695",
   "metadata": {},
   "outputs": [
    {
     "name": "stdout",
     "output_type": "stream",
     "text": [
      "12\n"
     ]
    }
   ],
   "source": [
    "def multiply(x, y):  # x and y are parameters\n",
    "    return x * y\n",
    "\n",
    "print(multiply(4, 3))  # Output: 12\n"
   ]
  },
  {
   "cell_type": "code",
   "execution_count": 6,
   "id": "40a7ed7c",
   "metadata": {},
   "outputs": [
    {
     "name": "stdout",
     "output_type": "stream",
     "text": [
      "212.0\n",
      "100.0\n"
     ]
    }
   ],
   "source": [
    "#(Real-Life Use Case: Temperature Conversion)\n",
    "def convert_temperature(temp, unit):\n",
    "    if unit == \"C\":\n",
    "        return (temp * 9/5) + 32  # Celsius to Fahrenheit\n",
    "    elif unit == \"F\":\n",
    "        return (temp - 32) * 5/9  # Fahrenheit to Celsius\n",
    "\n",
    "print(convert_temperature(100, \"C\"))  # Output: 212.0 (Fahrenheit)\n",
    "print(convert_temperature(212, \"F\"))  # Output: 100.0 (Celsius)\n"
   ]
  },
  {
   "cell_type": "markdown",
   "id": "7adcb871",
   "metadata": {},
   "source": [
    "4. *𝑎𝑟𝑔𝑠 :\n",
    "*𝑎𝑟𝑔𝑠 𝑎𝑙𝑙𝑜𝑤𝑠 𝑦𝑜𝑢 𝑡𝑜 𝑝𝑎𝑠𝑠 𝑎 𝑣𝑎𝑟𝑖𝑎𝑏𝑙𝑒 𝑛𝑢𝑚𝑏𝑒𝑟 𝑜𝑓 𝑎𝑟𝑔𝑢𝑚𝑒𝑛𝑡𝑠 𝑡𝑜 𝑎 𝑓𝑢𝑛𝑐𝑡𝑖𝑜𝑛."
   ]
  },
  {
   "cell_type": "code",
   "execution_count": 7,
   "id": "9f5aff6a",
   "metadata": {},
   "outputs": [
    {
     "name": "stdout",
     "output_type": "stream",
     "text": [
      "15\n"
     ]
    }
   ],
   "source": [
    "def total(*args):  # args is a tuple of all passed arguments\n",
    "    return sum(args)\n",
    "\n",
    "print(total(1, 2, 3, 4, 5))  # Output: 15\n"
   ]
  },
  {
   "cell_type": "code",
   "execution_count": 8,
   "id": "dc06fb95",
   "metadata": {},
   "outputs": [
    {
     "name": "stdout",
     "output_type": "stream",
     "text": [
      "Items in your cart:\n",
      "Laptop\n",
      "Headphones\n",
      "Mouse\n"
     ]
    }
   ],
   "source": [
    "#(Real-Life Use Case: Online Shopping Cart)\n",
    "def checkout(*items):\n",
    "    print(\"Items in your cart:\")\n",
    "    for item in items:\n",
    "        print(item)\n",
    "\n",
    "checkout(\"Laptop\", \"Headphones\", \"Mouse\")  \n",
    "# Output:\n",
    "# Items in your cart:\n",
    "# Laptop\n",
    "# Headphones\n",
    "# Mouse\n"
   ]
  },
  {
   "cell_type": "markdown",
   "id": "fa5eb098",
   "metadata": {},
   "source": [
    "5. 𝐾𝑒𝑦𝑤𝑜𝑟𝑑 𝐴𝑟𝑔𝑢𝑚𝑒𝑛𝑡𝑠:\n",
    "𝐾𝑒𝑦𝑤𝑜𝑟𝑑 𝑎𝑟𝑔𝑢𝑚𝑒𝑛𝑡𝑠 𝑎𝑙𝑙𝑜𝑤 𝑦𝑜𝑢 𝑡𝑜 𝑝𝑎𝑠𝑠 𝑎𝑟𝑔𝑢𝑚𝑒𝑛𝑡𝑠 𝑏𝑦 𝑛𝑎𝑚𝑒 𝑟𝑎𝑡ℎ𝑒𝑟 𝑡ℎ𝑎𝑛 𝑝𝑜𝑠𝑖𝑡𝑖𝑜𝑛."
   ]
  },
  {
   "cell_type": "code",
   "execution_count": 9,
   "id": "045e3e65",
   "metadata": {},
   "outputs": [
    {
     "name": "stdout",
     "output_type": "stream",
     "text": [
      "Name: Raihan, Age: 24\n"
     ]
    }
   ],
   "source": [
    "def person_info(name, age):\n",
    "    print(f\"Name: {name}, Age: {age}\")\n",
    "\n",
    "person_info(age=24, name=\"Raihan\")  # Output: Name: Raihan, Age: 24\n"
   ]
  },
  {
   "cell_type": "code",
   "execution_count": 10,
   "id": "c67f2f04",
   "metadata": {},
   "outputs": [
    {
     "name": "stdout",
     "output_type": "stream",
     "text": [
      "name: Raihan\n",
      "age: 24\n",
      "location: Dhaka\n",
      "profession: Student\n"
     ]
    }
   ],
   "source": [
    "#(Real-Life Use Case: Creating a User Profile)\n",
    "def create_profile(**kwargs):\n",
    "    for key, value in kwargs.items():\n",
    "        print(f\"{key}: {value}\")\n",
    "\n",
    "create_profile(name=\"Raihan\", age=24, location=\"Dhaka\", profession=\"Student\")  \n",
    "# Output:\n",
    "# name: Raihan\n",
    "# age: 24\n",
    "# location: Dhaka\n",
    "# profession: Student\n"
   ]
  },
  {
   "cell_type": "markdown",
   "id": "cd57127b",
   "metadata": {},
   "source": [
    "6. **𝑘𝑤𝑎𝑟𝑔𝑠 : \n",
    "**𝑘𝑤𝑎𝑟𝑔𝑠 𝑎𝑙𝑙𝑜𝑤𝑠 𝑦𝑜𝑢 𝑡𝑜 𝑝𝑎𝑠𝑠 𝑎 𝑣𝑎𝑟𝑖𝑎𝑏𝑙𝑒 𝑛𝑢𝑚𝑏𝑒𝑟 𝑜𝑓 𝑘𝑒𝑦𝑤𝑜𝑟𝑑 𝑎𝑟𝑔𝑢𝑚𝑒𝑛𝑡𝑠 (𝑖𝑛 𝑎 𝑑𝑖𝑐𝑡𝑖𝑜𝑛𝑎𝑟𝑦)."
   ]
  },
  {
   "cell_type": "code",
   "execution_count": 11,
   "id": "02debf54",
   "metadata": {},
   "outputs": [
    {
     "name": "stdout",
     "output_type": "stream",
     "text": [
      "name: Raihan\n",
      "age: 24\n",
      "location: Dhaka\n"
     ]
    }
   ],
   "source": [
    "def print_info(**kwargs):\n",
    "    for key, value in kwargs.items():\n",
    "        print(f\"{key}: {value}\")\n",
    "\n",
    "print_info(name=\"Raihan\", age=24, location=\"Dhaka\")  \n",
    "# Output:\n",
    "# name: Raihan\n",
    "# age: 24\n",
    "# location: Dhaka\n"
   ]
  },
  {
   "cell_type": "code",
   "execution_count": 12,
   "id": "aa3b07c2",
   "metadata": {},
   "outputs": [
    {
     "name": "stdout",
     "output_type": "stream",
     "text": [
      "smtp_server: smtp.gmail.com\n",
      "port: 587\n",
      "use_ssl: True\n"
     ]
    }
   ],
   "source": [
    "#(Real-Life Use Case: Configuring Email Settings)\n",
    "def configure_email(**settings):\n",
    "    for key, value in settings.items():\n",
    "        print(f\"{key}: {value}\")\n",
    "\n",
    "configure_email(smtp_server=\"smtp.gmail.com\", port=587, use_ssl=True)\n",
    "# Output:\n",
    "# smtp_server: smtp.gmail.com\n",
    "# port: 587\n",
    "# use_ssl: True\n"
   ]
  },
  {
   "cell_type": "markdown",
   "id": "b990954b",
   "metadata": {},
   "source": [
    "7. 𝐷𝑒𝑓𝑎𝑢𝑙𝑡 𝑃𝑎𝑟𝑎𝑚𝑒𝑡𝑒𝑟 :\n",
    "𝐷𝑒𝑓𝑎𝑢𝑙𝑡 𝑝𝑎𝑟𝑎𝑚𝑒𝑡𝑒𝑟𝑠 ℎ𝑎𝑣𝑒 𝑎 𝑑𝑒𝑓𝑎𝑢𝑙𝑡 𝑣𝑎𝑙𝑢𝑒 𝑖𝑓 𝑛𝑜 𝑎𝑟𝑔𝑢𝑚𝑒𝑛𝑡 𝑖𝑠 𝑝𝑎𝑠𝑠𝑒𝑑."
   ]
  },
  {
   "cell_type": "code",
   "execution_count": 13,
   "id": "5f9d22a3",
   "metadata": {},
   "outputs": [
    {
     "name": "stdout",
     "output_type": "stream",
     "text": [
      "Hello, Guest\n",
      "Hello, Raihan\n"
     ]
    }
   ],
   "source": [
    "def greet(name=\"Guest\"):\n",
    "    print(f\"Hello, {name}\")\n",
    "\n",
    "greet()  # Output: Hello, Guest\n",
    "greet(\"Raihan\")  # Output: Hello, Raihan\n"
   ]
  },
  {
   "cell_type": "code",
   "execution_count": 14,
   "id": "0990d9b7",
   "metadata": {},
   "outputs": [
    {
     "name": "stdout",
     "output_type": "stream",
     "text": [
      "Reminder set for 9:00 AM\n",
      "Reminder set for 5:00 PM\n"
     ]
    }
   ],
   "source": [
    "#(Real-Life Use Case: Appointment Reminder)\n",
    "def send_reminder(time=\"9:00 AM\"):\n",
    "    print(f\"Reminder set for {time}\")\n",
    "\n",
    "send_reminder()  # Output: Reminder set for 9:00 AM (default time)\n",
    "send_reminder(\"5:00 PM\")  # Output: Reminder set for 5:00 PM\n"
   ]
  },
  {
   "cell_type": "markdown",
   "id": "23a4f7c1",
   "metadata": {},
   "source": [
    "8. 𝑃𝑎𝑠𝑠: \n",
    "𝑝𝑎𝑠𝑠 𝑖𝑠 𝑢𝑠𝑒𝑑 𝑎𝑠 𝑎 𝑝𝑙𝑎𝑐𝑒ℎ𝑜𝑙𝑑𝑒𝑟 𝑤ℎ𝑒𝑛 𝑦𝑜𝑢 ℎ𝑎𝑣𝑒𝑛'𝑡 𝑖𝑚𝑝𝑙𝑒𝑚𝑒𝑛𝑡𝑒𝑑 𝑡ℎ𝑒 𝑓𝑢𝑛𝑐𝑡𝑖𝑜𝑛 𝑦𝑒𝑡."
   ]
  },
  {
   "cell_type": "code",
   "execution_count": 15,
   "id": "80b1b89e",
   "metadata": {},
   "outputs": [],
   "source": [
    "def unfinished_function():\n",
    "    pass  # No action now, but function exists\n",
    "\n",
    "unfinished_function()  # This will do nothing\n"
   ]
  },
  {
   "cell_type": "code",
   "execution_count": 16,
   "id": "53e66631",
   "metadata": {},
   "outputs": [
    {
     "name": "stdout",
     "output_type": "stream",
     "text": [
      "User registered successfully\n"
     ]
    }
   ],
   "source": [
    "#(Real-Life Use Case: Development Placeholder)\n",
    "def payment_gateway():\n",
    "    pass  # Implementation will be done later\n",
    "\n",
    "def user_registration():\n",
    "    print(\"User registered successfully\")\n",
    "\n",
    "user_registration()  # Output: User registered successfully\n"
   ]
  },
  {
   "cell_type": "markdown",
   "id": "6f89a695",
   "metadata": {},
   "source": [
    "9. 𝐼𝑛𝑠𝑡𝑒𝑎𝑑 𝑜𝑓 𝑅𝑒𝑡𝑢𝑟𝑛 (𝑃𝑟𝑖𝑛𝑡 𝑣𝑠 𝑅𝑒𝑡𝑢𝑟𝑛)"
   ]
  },
  {
   "cell_type": "code",
   "execution_count": 17,
   "id": "aec94004",
   "metadata": {},
   "outputs": [
    {
     "name": "stdout",
     "output_type": "stream",
     "text": [
      "15\n",
      "15\n"
     ]
    }
   ],
   "source": [
    "def add(a, b):\n",
    "    print(a + b)  # This just prints the result\n",
    "\n",
    "def add_return(a, b):\n",
    "    return a + b  # This sends the result back\n",
    "\n",
    "add(5, 10)  # Output: 15 (only printed)\n",
    "result = add_return(5, 10)  # No immediate output, but result can be used later\n",
    "print(result)  # Output: 15\n"
   ]
  },
  {
   "cell_type": "code",
   "execution_count": 18,
   "id": "94d337a6",
   "metadata": {},
   "outputs": [
    {
     "name": "stdout",
     "output_type": "stream",
     "text": [
      "Event logged: User logged in\n"
     ]
    }
   ],
   "source": [
    "#(Real-Life Use Case: Logging System)\n",
    "def log_event(event):\n",
    "    print(f\"Event logged: {event}\")\n",
    "\n",
    "log_event(\"User logged in\")  # Output: Event logged: User logged in\n"
   ]
  },
  {
   "cell_type": "markdown",
   "id": "42ddfda4",
   "metadata": {},
   "source": [
    "10. 𝑅𝑒𝑐𝑢𝑟𝑠𝑖𝑜𝑛:\n",
    "𝑅𝑒𝑐𝑢𝑟𝑠𝑖𝑜𝑛 𝑖𝑠 𝑤ℎ𝑒𝑛 𝑎 𝑓𝑢𝑛𝑐𝑡𝑖𝑜𝑛 𝑐𝑎𝑙𝑙𝑠 𝑖𝑡𝑠𝑒𝑙𝑓."
   ]
  },
  {
   "cell_type": "code",
   "execution_count": 19,
   "id": "cc90e2fa",
   "metadata": {},
   "outputs": [
    {
     "name": "stdout",
     "output_type": "stream",
     "text": [
      "120\n"
     ]
    }
   ],
   "source": [
    "def factorial(n):\n",
    "    if n == 1:\n",
    "        return 1\n",
    "    else:\n",
    "        return n * factorial(n - 1)\n",
    "\n",
    "print(factorial(5))  # Output: 120\n"
   ]
  },
  {
   "cell_type": "code",
   "execution_count": 20,
   "id": "8927daeb",
   "metadata": {
    "scrolled": true
   },
   "outputs": [
    {
     "name": "stdout",
     "output_type": "stream",
     "text": [
      "Searching in main_directory... (Depth: 0)\n",
      "Searching in main_directory/subdir... (Depth: 1)\n",
      "Searching in main_directory/subdir/subdir... (Depth: 2)\n",
      "Searching in main_directory/subdir/subdir/subdir... (Depth: 3)\n",
      "Reached maximum search depth in main_directory/subdir/subdir/subdir\n"
     ]
    }
   ],
   "source": [
    "#(Real-Life Use Case: Directory Search)\n",
    "def search_files(directory, file_name, depth=0, max_depth=3):\n",
    "    print(f\"Searching in {directory}... (Depth: {depth})\")\n",
    "\n",
    "    if directory == file_name:\n",
    "        print(f\"File found: {file_name}\")\n",
    "        return\n",
    "    elif depth >= max_depth:\n",
    "        print(f\"Reached maximum search depth in {directory}\")\n",
    "        return\n",
    "    else:\n",
    "        # Recursively searching in subdirectories\n",
    "        search_files(f\"{directory}/subdir\", file_name, depth + 1)\n",
    "\n",
    "search_files(\"main_directory\", \"target_file\")\n"
   ]
  },
  {
   "cell_type": "code",
   "execution_count": null,
   "id": "b7a32ab6",
   "metadata": {},
   "outputs": [],
   "source": []
  }
 ],
 "metadata": {
  "kernelspec": {
   "display_name": "Python 3 (ipykernel)",
   "language": "python",
   "name": "python3"
  },
  "language_info": {
   "codemirror_mode": {
    "name": "ipython",
    "version": 3
   },
   "file_extension": ".py",
   "mimetype": "text/x-python",
   "name": "python",
   "nbconvert_exporter": "python",
   "pygments_lexer": "ipython3",
   "version": "3.11.4"
  }
 },
 "nbformat": 4,
 "nbformat_minor": 5
}
