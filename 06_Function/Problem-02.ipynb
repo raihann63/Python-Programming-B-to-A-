{
 "cells": [
  {
   "cell_type": "markdown",
   "id": "492e6107",
   "metadata": {},
   "source": [
    "# 𝑭𝒖𝒏𝒄𝒕𝒊𝒐𝒏"
   ]
  },
  {
   "cell_type": "markdown",
   "id": "33bb20ed",
   "metadata": {},
   "source": [
    "1. 𝑅𝑒𝑡𝑢𝑟𝑛:\n",
    "𝑇ℎ𝑒 𝑟𝑒𝑡𝑢𝑟𝑛 𝑠𝑡𝑎𝑡𝑒𝑚𝑒𝑛𝑡 𝑖𝑠 𝑢𝑠𝑒𝑑 𝑡𝑜 𝑠𝑒𝑛𝑑 𝑎 𝑟𝑒𝑠𝑢𝑙𝑡 𝑏𝑎𝑐𝑘 𝑓𝑟𝑜𝑚 𝑎 𝑓𝑢𝑛𝑐𝑡𝑖𝑜𝑛."
   ]
  },
  {
   "cell_type": "code",
   "execution_count": 1,
   "id": "6bfe6ee8",
   "metadata": {},
   "outputs": [
    {
     "name": "stdout",
     "output_type": "stream",
     "text": [
      "15\n"
     ]
    }
   ],
   "source": [
    "def add(a, b):\n",
    "    return a + b  # Returns the sum of a and b\n",
    "\n",
    "result = add(5, 10)\n",
    "print(result)  # Output: 15\n"
   ]
  },
  {
   "cell_type": "markdown",
   "id": "19922940",
   "metadata": {},
   "source": [
    "2. 𝐴𝑟𝑔𝑢𝑚𝑒𝑛𝑡𝑠: \n",
    "𝐴𝑟𝑔𝑢𝑚𝑒𝑛𝑡𝑠 𝑎𝑟𝑒 𝑡ℎ𝑒 𝑣𝑎𝑙𝑢𝑒𝑠 𝑦𝑜𝑢 𝑝𝑎𝑠𝑠 𝑖𝑛𝑡𝑜 𝑡ℎ𝑒 𝑓𝑢𝑛𝑐𝑡𝑖𝑜𝑛 𝑤ℎ𝑒𝑛 𝑐𝑎𝑙𝑙𝑖𝑛𝑔 𝑖𝑡."
   ]
  },
  {
   "cell_type": "code",
   "execution_count": 2,
   "id": "c90cbe11",
   "metadata": {},
   "outputs": [
    {
     "name": "stdout",
     "output_type": "stream",
     "text": [
      "Hello, Raihan\n"
     ]
    }
   ],
   "source": [
    "def greet(name):\n",
    "    print(\"Hello, \" + name)\n",
    "\n",
    "greet(\"Raihan\")  # Output: Hello, Raihan\n"
   ]
  },
  {
   "cell_type": "markdown",
   "id": "ed583bd4",
   "metadata": {},
   "source": [
    "3. 𝑃𝑎𝑟𝑎𝑚𝑒𝑡𝑒𝑟𝑠 :\n",
    "𝑃𝑎𝑟𝑎𝑚𝑒𝑡𝑒𝑟𝑠 𝑎𝑟𝑒 𝑡ℎ𝑒 𝑣𝑎𝑟𝑖𝑎𝑏𝑙𝑒𝑠 𝑑𝑒𝑓𝑖𝑛𝑒𝑑 𝑖𝑛 𝑡ℎ𝑒 𝑓𝑢𝑛𝑐𝑡𝑖𝑜𝑛'𝑠 𝑠𝑖𝑔𝑛𝑎𝑡𝑢𝑟𝑒 𝑡ℎ𝑎𝑡 𝑎𝑐𝑐𝑒𝑝𝑡 𝑡ℎ𝑒 𝑎𝑟𝑔𝑢𝑚𝑒𝑛𝑡𝑠."
   ]
  },
  {
   "cell_type": "code",
   "execution_count": 3,
   "id": "a2843695",
   "metadata": {},
   "outputs": [
    {
     "name": "stdout",
     "output_type": "stream",
     "text": [
      "12\n"
     ]
    }
   ],
   "source": [
    "def multiply(x, y):  # x and y are parameters\n",
    "    return x * y\n",
    "\n",
    "print(multiply(4, 3))  # Output: 12\n"
   ]
  },
  {
   "cell_type": "markdown",
   "id": "7adcb871",
   "metadata": {},
   "source": [
    "4. *𝑎𝑟𝑔𝑠 :\n",
    "*𝑎𝑟𝑔𝑠 𝑎𝑙𝑙𝑜𝑤𝑠 𝑦𝑜𝑢 𝑡𝑜 𝑝𝑎𝑠𝑠 𝑎 𝑣𝑎𝑟𝑖𝑎𝑏𝑙𝑒 𝑛𝑢𝑚𝑏𝑒𝑟 𝑜𝑓 𝑎𝑟𝑔𝑢𝑚𝑒𝑛𝑡𝑠 𝑡𝑜 𝑎 𝑓𝑢𝑛𝑐𝑡𝑖𝑜𝑛."
   ]
  },
  {
   "cell_type": "code",
   "execution_count": 4,
   "id": "9f5aff6a",
   "metadata": {},
   "outputs": [
    {
     "name": "stdout",
     "output_type": "stream",
     "text": [
      "15\n"
     ]
    }
   ],
   "source": [
    "def total(*args):  # args is a tuple of all passed arguments\n",
    "    return sum(args)\n",
    "\n",
    "print(total(1, 2, 3, 4, 5))  # Output: 15\n"
   ]
  },
  {
   "cell_type": "markdown",
   "id": "fa5eb098",
   "metadata": {},
   "source": [
    "5. 𝐾𝑒𝑦𝑤𝑜𝑟𝑑 𝐴𝑟𝑔𝑢𝑚𝑒𝑛𝑡𝑠:\n",
    "𝐾𝑒𝑦𝑤𝑜𝑟𝑑 𝑎𝑟𝑔𝑢𝑚𝑒𝑛𝑡𝑠 𝑎𝑙𝑙𝑜𝑤 𝑦𝑜𝑢 𝑡𝑜 𝑝𝑎𝑠𝑠 𝑎𝑟𝑔𝑢𝑚𝑒𝑛𝑡𝑠 𝑏𝑦 𝑛𝑎𝑚𝑒 𝑟𝑎𝑡ℎ𝑒𝑟 𝑡ℎ𝑎𝑛 𝑝𝑜𝑠𝑖𝑡𝑖𝑜𝑛."
   ]
  },
  {
   "cell_type": "code",
   "execution_count": 5,
   "id": "045e3e65",
   "metadata": {},
   "outputs": [
    {
     "name": "stdout",
     "output_type": "stream",
     "text": [
      "Name: Raihan, Age: 24\n"
     ]
    }
   ],
   "source": [
    "def person_info(name, age):\n",
    "    print(f\"Name: {name}, Age: {age}\")\n",
    "\n",
    "person_info(age=24, name=\"Raihan\")  # Output: Name: Raihan, Age: 24\n"
   ]
  },
  {
   "cell_type": "markdown",
   "id": "cd57127b",
   "metadata": {},
   "source": [
    "6. **𝑘𝑤𝑎𝑟𝑔𝑠 : \n",
    "**𝑘𝑤𝑎𝑟𝑔𝑠 𝑎𝑙𝑙𝑜𝑤𝑠 𝑦𝑜𝑢 𝑡𝑜 𝑝𝑎𝑠𝑠 𝑎 𝑣𝑎𝑟𝑖𝑎𝑏𝑙𝑒 𝑛𝑢𝑚𝑏𝑒𝑟 𝑜𝑓 𝑘𝑒𝑦𝑤𝑜𝑟𝑑 𝑎𝑟𝑔𝑢𝑚𝑒𝑛𝑡𝑠 (𝑖𝑛 𝑎 𝑑𝑖𝑐𝑡𝑖𝑜𝑛𝑎𝑟𝑦)."
   ]
  },
  {
   "cell_type": "code",
   "execution_count": 6,
   "id": "02debf54",
   "metadata": {},
   "outputs": [
    {
     "name": "stdout",
     "output_type": "stream",
     "text": [
      "name: Raihan\n",
      "age: 24\n",
      "location: Dhaka\n"
     ]
    }
   ],
   "source": [
    "def print_info(**kwargs):\n",
    "    for key, value in kwargs.items():\n",
    "        print(f\"{key}: {value}\")\n",
    "\n",
    "print_info(name=\"Raihan\", age=24, location=\"Dhaka\")  \n",
    "# Output:\n",
    "# name: Raihan\n",
    "# age: 24\n",
    "# location: Dhaka\n"
   ]
  },
  {
   "cell_type": "markdown",
   "id": "b990954b",
   "metadata": {},
   "source": [
    "7. 𝐷𝑒𝑓𝑎𝑢𝑙𝑡 𝑃𝑎𝑟𝑎𝑚𝑒𝑡𝑒𝑟 :\n",
    "𝐷𝑒𝑓𝑎𝑢𝑙𝑡 𝑝𝑎𝑟𝑎𝑚𝑒𝑡𝑒𝑟𝑠 ℎ𝑎𝑣𝑒 𝑎 𝑑𝑒𝑓𝑎𝑢𝑙𝑡 𝑣𝑎𝑙𝑢𝑒 𝑖𝑓 𝑛𝑜 𝑎𝑟𝑔𝑢𝑚𝑒𝑛𝑡 𝑖𝑠 𝑝𝑎𝑠𝑠𝑒𝑑."
   ]
  },
  {
   "cell_type": "code",
   "execution_count": 7,
   "id": "5f9d22a3",
   "metadata": {},
   "outputs": [
    {
     "name": "stdout",
     "output_type": "stream",
     "text": [
      "Hello, Guest\n",
      "Hello, Raihan\n"
     ]
    }
   ],
   "source": [
    "def greet(name=\"Guest\"):\n",
    "    print(f\"Hello, {name}\")\n",
    "\n",
    "greet()  # Output: Hello, Guest\n",
    "greet(\"Raihan\")  # Output: Hello, Raihan\n"
   ]
  },
  {
   "cell_type": "markdown",
   "id": "23a4f7c1",
   "metadata": {},
   "source": [
    "8. 𝑃𝑎𝑠𝑠: \n",
    "𝑝𝑎𝑠𝑠 𝑖𝑠 𝑢𝑠𝑒𝑑 𝑎𝑠 𝑎 𝑝𝑙𝑎𝑐𝑒ℎ𝑜𝑙𝑑𝑒𝑟 𝑤ℎ𝑒𝑛 𝑦𝑜𝑢 ℎ𝑎𝑣𝑒𝑛'𝑡 𝑖𝑚𝑝𝑙𝑒𝑚𝑒𝑛𝑡𝑒𝑑 𝑡ℎ𝑒 𝑓𝑢𝑛𝑐𝑡𝑖𝑜𝑛 𝑦𝑒𝑡."
   ]
  },
  {
   "cell_type": "code",
   "execution_count": 8,
   "id": "80b1b89e",
   "metadata": {},
   "outputs": [],
   "source": [
    "def unfinished_function():\n",
    "    pass  # No action now, but function exists\n",
    "\n",
    "unfinished_function()  # This will do nothing\n"
   ]
  },
  {
   "cell_type": "markdown",
   "id": "6f89a695",
   "metadata": {},
   "source": [
    "9. 𝐼𝑛𝑠𝑡𝑒𝑎𝑑 𝑜𝑓 𝑅𝑒𝑡𝑢𝑟𝑛 (𝑃𝑟𝑖𝑛𝑡 𝑣𝑠 𝑅𝑒𝑡𝑢𝑟𝑛)"
   ]
  },
  {
   "cell_type": "code",
   "execution_count": 9,
   "id": "aec94004",
   "metadata": {},
   "outputs": [
    {
     "name": "stdout",
     "output_type": "stream",
     "text": [
      "15\n",
      "15\n"
     ]
    }
   ],
   "source": [
    "def add(a, b):\n",
    "    print(a + b)  # This just prints the result\n",
    "\n",
    "def add_return(a, b):\n",
    "    return a + b  # This sends the result back\n",
    "\n",
    "add(5, 10)  # Output: 15 (only printed)\n",
    "result = add_return(5, 10)  # No immediate output, but result can be used later\n",
    "print(result)  # Output: 15\n"
   ]
  },
  {
   "cell_type": "markdown",
   "id": "42ddfda4",
   "metadata": {},
   "source": [
    "10. 𝑅𝑒𝑐𝑢𝑟𝑠𝑖𝑜𝑛:\n",
    "𝑅𝑒𝑐𝑢𝑟𝑠𝑖𝑜𝑛 𝑖𝑠 𝑤ℎ𝑒𝑛 𝑎 𝑓𝑢𝑛𝑐𝑡𝑖𝑜𝑛 𝑐𝑎𝑙𝑙𝑠 𝑖𝑡𝑠𝑒𝑙𝑓."
   ]
  },
  {
   "cell_type": "code",
   "execution_count": 10,
   "id": "cc90e2fa",
   "metadata": {},
   "outputs": [
    {
     "name": "stdout",
     "output_type": "stream",
     "text": [
      "120\n"
     ]
    }
   ],
   "source": [
    "def factorial(n):\n",
    "    if n == 1:\n",
    "        return 1\n",
    "    else:\n",
    "        return n * factorial(n - 1)\n",
    "\n",
    "print(factorial(5))  # Output: 120\n"
   ]
  },
  {
   "cell_type": "code",
   "execution_count": null,
   "id": "b7a32ab6",
   "metadata": {},
   "outputs": [],
   "source": []
  }
 ],
 "metadata": {
  "kernelspec": {
   "display_name": "Python 3 (ipykernel)",
   "language": "python",
   "name": "python3"
  },
  "language_info": {
   "codemirror_mode": {
    "name": "ipython",
    "version": 3
   },
   "file_extension": ".py",
   "mimetype": "text/x-python",
   "name": "python",
   "nbconvert_exporter": "python",
   "pygments_lexer": "ipython3",
   "version": "3.11.4"
  }
 },
 "nbformat": 4,
 "nbformat_minor": 5
}
