{
 "cells": [
  {
   "cell_type": "markdown",
   "id": "1b1aca6b",
   "metadata": {},
   "source": [
    "# Functions Problems"
   ]
  },
  {
   "cell_type": "code",
   "execution_count": 1,
   "id": "d5fd3b52",
   "metadata": {},
   "outputs": [
    {
     "name": "stdout",
     "output_type": "stream",
     "text": [
      "120\n",
      "1\n"
     ]
    }
   ],
   "source": [
    "#Factorial Calculator\n",
    "def factorial(n):\n",
    "    if n == 0 or n == 1:\n",
    "        return 1\n",
    "    else:\n",
    "        return n * factorial(n - 1)\n",
    "\n",
    "# Testing the function\n",
    "print(factorial(5))  # Output: 120\n",
    "print(factorial(0))  # Output: 1\n"
   ]
  },
  {
   "cell_type": "code",
   "execution_count": 2,
   "id": "35395d59",
   "metadata": {},
   "outputs": [
    {
     "name": "stdout",
     "output_type": "stream",
     "text": [
      "True\n",
      "False\n"
     ]
    }
   ],
   "source": [
    "#Palindrome Checker\n",
    "def is_palindrome(s):\n",
    "    s = s.lower()  # Make it case-insensitive\n",
    "    return s == s[::-1]\n",
    "\n",
    "# Testing the function\n",
    "print(is_palindrome(\"Madam\"))  # Output: True\n",
    "print(is_palindrome(\"Hello\"))  # Output: False\n"
   ]
  },
  {
   "cell_type": "code",
   "execution_count": 3,
   "id": "f48e4c48",
   "metadata": {},
   "outputs": [
    {
     "name": "stdout",
     "output_type": "stream",
     "text": [
      "Even\n",
      "Odd\n"
     ]
    }
   ],
   "source": [
    "#Even or Odd Checker\n",
    "def even_or_odd(n):\n",
    "    return \"Even\" if n % 2 == 0 else \"Odd\"\n",
    "\n",
    "# Testing the function\n",
    "print(even_or_odd(10))  # Output: Even\n",
    "print(even_or_odd(7))   # Output: Odd\n"
   ]
  },
  {
   "cell_type": "code",
   "execution_count": 4,
   "id": "8345ab21",
   "metadata": {},
   "outputs": [
    {
     "name": "stdout",
     "output_type": "stream",
     "text": [
      "10\n",
      "14\n"
     ]
    }
   ],
   "source": [
    "#List Sum Calculator\n",
    "def list_sum(numbers):\n",
    "    return sum(numbers)\n",
    "\n",
    "# Testing the function\n",
    "print(list_sum([1, 2, 3, 4]))  # Output: 10\n",
    "print(list_sum([10, -1, 5]))   # Output: 14\n"
   ]
  },
  {
   "cell_type": "code",
   "execution_count": 5,
   "id": "4572869f",
   "metadata": {},
   "outputs": [
    {
     "name": "stdout",
     "output_type": "stream",
     "text": [
      "6\n",
      "5\n"
     ]
    }
   ],
   "source": [
    "#Greatest Common Divisor (GCD) Calculator\n",
    "import math\n",
    "\n",
    "def gcd(a, b):\n",
    "    return math.gcd(a, b)\n",
    "\n",
    "# Testing the function\n",
    "print(gcd(48, 18))  # Output: 6\n",
    "print(gcd(10, 15))  # Output: 5\n"
   ]
  },
  {
   "cell_type": "code",
   "execution_count": 6,
   "id": "833826f9",
   "metadata": {},
   "outputs": [
    {
     "name": "stdout",
     "output_type": "stream",
     "text": [
      "True\n",
      "False\n"
     ]
    }
   ],
   "source": [
    "#Leap Year Checker\n",
    "def is_leap_year(year):\n",
    "    if (year % 4 == 0 and year % 100 != 0) or (year % 400 == 0):\n",
    "        return True\n",
    "    return False\n",
    "\n",
    "# Testing the function\n",
    "print(is_leap_year(2024))  # Output: True\n",
    "print(is_leap_year(1900))  # Output: False\n"
   ]
  },
  {
   "cell_type": "markdown",
   "id": "b874c5cf",
   "metadata": {},
   "source": [
    "# Nested Functions Problems"
   ]
  },
  {
   "cell_type": "code",
   "execution_count": 7,
   "id": "4901f115",
   "metadata": {},
   "outputs": [
    {
     "name": "stdout",
     "output_type": "stream",
     "text": [
      "17\n",
      "3\n",
      "100\n",
      "1.0\n"
     ]
    }
   ],
   "source": [
    "#Math Operations with Nested Functions\n",
    "def math_operations(a, b, c, operation):\n",
    "    def add():\n",
    "        return a + b + c\n",
    "\n",
    "    def subtract():\n",
    "        return a - b - c\n",
    "\n",
    "    def multiply():\n",
    "        return a * b * c\n",
    "\n",
    "    def divide():\n",
    "        return a / b / c if b != 0 and c != 0 else \"Cannot divide by zero\"\n",
    "\n",
    "    if operation == 'add':\n",
    "        return add()\n",
    "    elif operation == 'subtract':\n",
    "        return subtract()\n",
    "    elif operation == 'multiply':\n",
    "        return multiply()\n",
    "    elif operation == 'divide':\n",
    "        return divide()\n",
    "    else:\n",
    "        return \"Invalid operation\"\n",
    "\n",
    "# Testing the function\n",
    "print(math_operations(10, 5, 2, 'add'))        # Output: 17\n",
    "print(math_operations(10, 5, 2, 'subtract'))   # Output: 3\n",
    "print(math_operations(10, 5, 2, 'multiply'))   # Output: 100\n",
    "print(math_operations(10, 5, 2, 'divide'))     # Output: 1.0\n"
   ]
  },
  {
   "cell_type": "code",
   "execution_count": 8,
   "id": "8ea60c6d",
   "metadata": {},
   "outputs": [
    {
     "name": "stdout",
     "output_type": "stream",
     "text": [
      "Hello, Raihan! How are you today, Raihan?\n"
     ]
    }
   ],
   "source": [
    "#Greeting Generator with Nested Functions\n",
    "def greeting_generator(name):\n",
    "    def greet():\n",
    "        return f\"Hello, {name}!\"\n",
    "\n",
    "    def ask_how_are_you():\n",
    "        return f\"How are you today, {name}?\"\n",
    "\n",
    "    return f\"{greet()} {ask_how_are_you()}\"\n",
    "\n",
    "# Testing the function\n",
    "print(greeting_generator(\"Raihan\"))  # Output: Hello, Raihan! How are you today, Raihan?\n"
   ]
  },
  {
   "cell_type": "code",
   "execution_count": 9,
   "id": "7f90ae5e",
   "metadata": {},
   "outputs": [
    {
     "name": "stdout",
     "output_type": "stream",
     "text": [
      "212.0\n",
      "0.0\n"
     ]
    }
   ],
   "source": [
    "#Temperature Converter with Nested Functions\n",
    "def temperature_converter(temp, scale):\n",
    "    def to_celsius(f):\n",
    "        return (f - 32) * 5 / 9\n",
    "\n",
    "    def to_fahrenheit(c):\n",
    "        return (c * 9 / 5) + 32\n",
    "\n",
    "    if scale == 'C':\n",
    "        return to_fahrenheit(temp)\n",
    "    elif scale == 'F':\n",
    "        return to_celsius(temp)\n",
    "    else:\n",
    "        return \"Invalid scale\"\n",
    "\n",
    "# Testing the function\n",
    "print(temperature_converter(100, 'C'))  # Output: 212.0 (Fahrenheit)\n",
    "print(temperature_converter(32, 'F'))   # Output: 0.0 (Celsius)\n"
   ]
  },
  {
   "cell_type": "code",
   "execution_count": null,
   "id": "bca07fd9",
   "metadata": {},
   "outputs": [],
   "source": []
  }
 ],
 "metadata": {
  "kernelspec": {
   "display_name": "Python 3 (ipykernel)",
   "language": "python",
   "name": "python3"
  },
  "language_info": {
   "codemirror_mode": {
    "name": "ipython",
    "version": 3
   },
   "file_extension": ".py",
   "mimetype": "text/x-python",
   "name": "python",
   "nbconvert_exporter": "python",
   "pygments_lexer": "ipython3",
   "version": "3.11.4"
  }
 },
 "nbformat": 4,
 "nbformat_minor": 5
}
