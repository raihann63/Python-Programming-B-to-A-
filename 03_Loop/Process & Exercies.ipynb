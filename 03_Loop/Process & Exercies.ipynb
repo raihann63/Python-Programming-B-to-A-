{
 "cells": [
  {
   "cell_type": "markdown",
   "id": "355ac9f6",
   "metadata": {},
   "source": [
    "# PROCESS"
   ]
  },
  {
   "cell_type": "code",
   "execution_count": 1,
   "id": "e65fb3a9",
   "metadata": {},
   "outputs": [
    {
     "name": "stdout",
     "output_type": "stream",
     "text": [
      "P y t h o n "
     ]
    }
   ],
   "source": [
    "#Process-01:\n",
    "data=\"Python\"  # Already Variable declare from user \n",
    "for x in data:\n",
    "   print(x,end=\" \")\n"
   ]
  },
  {
   "cell_type": "code",
   "execution_count": 2,
   "id": "65e68cb6",
   "metadata": {},
   "outputs": [
    {
     "name": "stdout",
     "output_type": "stream",
     "text": [
      "P y t h o n "
     ]
    }
   ],
   "source": [
    "#Process-02:\n",
    "data=\"Python\"  # Already Variable declare from user \n",
    "for x in range(len(data)) :\n",
    "   print(data[x],end=\" \")\n"
   ]
  },
  {
   "cell_type": "code",
   "execution_count": 3,
   "id": "7b71e6fa",
   "metadata": {},
   "outputs": [
    {
     "name": "stdout",
     "output_type": "stream",
     "text": [
      "P y t h o n "
     ]
    }
   ],
   "source": [
    "#Process-03:\n",
    "data=\"Python\"  # Already Variable declare from user \n",
    "for x in range(6) : # If you know about this  length\n",
    "   print(data[x],end=\" \")\n"
   ]
  },
  {
   "cell_type": "code",
   "execution_count": 4,
   "id": "d4830cfd",
   "metadata": {},
   "outputs": [
    {
     "name": "stdout",
     "output_type": "stream",
     "text": [
      "P y t h o n "
     ]
    }
   ],
   "source": [
    "#Process-04:\n",
    "data = 'Python'\n",
    "for i in range(0, len(data), 1):\n",
    "    #print(\"Character at index\", i, \"is\", data[i])__________[for good practices]\n",
    "    print(data[i],end=\" \")\n",
    "\n",
    "#note: range() arg 3 must not be zero"
   ]
  },
  {
   "cell_type": "code",
   "execution_count": 5,
   "id": "77eb06f0",
   "metadata": {},
   "outputs": [
    {
     "name": "stdout",
     "output_type": "stream",
     "text": [
      "I = 0 index;     Love = 1 index;     data = 2 index;     Science = 3 index;     "
     ]
    }
   ],
   "source": [
    "#Process-05:\n",
    "#When you want to print all individual word in sentences and index nbr\n",
    "\n",
    "data=\"I Love data Science\"\n",
    "data=data.split()\n",
    "for i in range(len(data)):\n",
    "    print(data[i],\"=\",i, \"index\"+\";\",end=\"     \")  #Also print index number\n"
   ]
  },
  {
   "cell_type": "markdown",
   "id": "90c422c1",
   "metadata": {},
   "source": [
    "# EXERCISE"
   ]
  },
  {
   "cell_type": "code",
   "execution_count": 6,
   "id": "d0f3b296",
   "metadata": {},
   "outputs": [
    {
     "name": "stdout",
     "output_type": "stream",
     "text": [
      "Total= 2 Then X=  2\n",
      "Total= 5 Then X=  3\n",
      "Total= 9 Then X=  4\n",
      "Total= 64 Then X=  55\n",
      "Total= 124 Then X=  60\n",
      "Total= 201 Then X=  77\n",
      "Total= 301 Then X=  100\n",
      "\n",
      "ANSWER=  301\n"
     ]
    }
   ],
   "source": [
    "#Exercise-01:#Write a program that finds the total\n",
    "n=[2,3,4,55,60,77,100]\n",
    "total=0\n",
    "for x in n:\n",
    "    total=total+x\n",
    "    print(\"Total=\",total,\"Then X= \",x)#Show individual total & x \n",
    "print(\"\\nANSWER= \",total) #Show individual total & x\n"
   ]
  },
  {
   "cell_type": "code",
   "execution_count": 7,
   "id": "a3aca9f1",
   "metadata": {},
   "outputs": [
    {
     "name": "stdout",
     "output_type": "stream",
     "text": [
      "#  \n",
      "# #  \n",
      "# # #  \n",
      "# # # #  \n"
     ]
    }
   ],
   "source": [
    "#We write to the first loop : Outer Loop\n",
    "#We write to the Second loop : Inner Loop\n",
    "\n",
    "#Exercise-02:\n",
    "Rows=4\n",
    "#outer loop\n",
    "for x in range(1,Rows+1):\n",
    "        #inner loop\n",
    "        for y in range(1, x+1):\n",
    "             print(\"#\",end=\" \")\n",
    "        print(\" \")\n"
   ]
  },
  {
   "cell_type": "code",
   "execution_count": null,
   "id": "d4d8bda8",
   "metadata": {},
   "outputs": [],
   "source": []
  }
 ],
 "metadata": {
  "kernelspec": {
   "display_name": "Python 3 (ipykernel)",
   "language": "python",
   "name": "python3"
  },
  "language_info": {
   "codemirror_mode": {
    "name": "ipython",
    "version": 3
   },
   "file_extension": ".py",
   "mimetype": "text/x-python",
   "name": "python",
   "nbconvert_exporter": "python",
   "pygments_lexer": "ipython3",
   "version": "3.11.4"
  }
 },
 "nbformat": 4,
 "nbformat_minor": 5
}
