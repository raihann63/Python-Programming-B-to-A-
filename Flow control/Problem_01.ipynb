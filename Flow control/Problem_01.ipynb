{
 "cells": [
  {
   "cell_type": "markdown",
   "id": "3f62fb64",
   "metadata": {},
   "source": [
    "# 𝑰𝒇 𝑺𝒕𝒂𝒕𝒆𝒎𝒆𝒏𝒕"
   ]
  },
  {
   "cell_type": "markdown",
   "id": "06dd43cc",
   "metadata": {},
   "source": [
    "Problem-01: Real life use:\n",
    "Determining if someone is eligible to vote based on age"
   ]
  },
  {
   "cell_type": "code",
   "execution_count": 1,
   "id": "bcea8e92",
   "metadata": {},
   "outputs": [
    {
     "name": "stdout",
     "output_type": "stream",
     "text": [
      "You are eligible to vote.\n"
     ]
    }
   ],
   "source": [
    "#if Statement\n",
    "age = 20\n",
    "if age >= 18:\n",
    "    print(\"You are eligible to vote.\")"
   ]
  },
  {
   "cell_type": "markdown",
   "id": "3a78fdfa",
   "metadata": {},
   "source": [
    "Problem-02: Real-Life Use:\n",
    "This example is useful for reminding someone to take an umbrella if it’s raining."
   ]
  },
  {
   "cell_type": "code",
   "execution_count": 2,
   "id": "8982360f",
   "metadata": {},
   "outputs": [
    {
     "name": "stdout",
     "output_type": "stream",
     "text": [
      "Don't forget your umbrella!\n"
     ]
    }
   ],
   "source": [
    "#if Statement\n",
    "weather = \"rainy\"\n",
    "if weather == \"rainy\":\n",
    "    print(\"Don't forget your umbrella!\")\n"
   ]
  },
  {
   "cell_type": "markdown",
   "id": "e8b486a0",
   "metadata": {},
   "source": [
    "# 𝑬𝒍𝒔𝒆 𝑺𝒕𝒂𝒕𝒆𝒎𝒆𝒏𝒕"
   ]
  },
  {
   "cell_type": "markdown",
   "id": "d886077c",
   "metadata": {},
   "source": [
    "Problem-03: Real-Life Use:\n",
    "This helps in deciding the mode of transportation based on the distance."
   ]
  },
  {
   "cell_type": "code",
   "execution_count": 3,
   "id": "b71f2a77",
   "metadata": {},
   "outputs": [
    {
     "name": "stdout",
     "output_type": "stream",
     "text": [
      "You can ride the bike.\n"
     ]
    }
   ],
   "source": [
    "#else Statement\n",
    "distance_to_work = 2  # in kilometers\n",
    "if distance_to_work > 5:\n",
    "    print(\"Take the car.\")\n",
    "else:\n",
    "    print(\"You can ride the bike.\")\n"
   ]
  },
  {
   "cell_type": "markdown",
   "id": "5ef577ff",
   "metadata": {},
   "source": [
    "Problem-04: Real-Life Use:\n",
    "Checking if a product is in stock or out of stock."
   ]
  },
  {
   "cell_type": "code",
   "execution_count": 4,
   "id": "d2b27040",
   "metadata": {},
   "outputs": [
    {
     "name": "stdout",
     "output_type": "stream",
     "text": [
      "Out of stock.\n"
     ]
    }
   ],
   "source": [
    "#else Statement\n",
    "stock = 0\n",
    "if stock > 0:\n",
    "    print(\"Product is available.\")\n",
    "else:\n",
    "    print(\"Out of stock.\")\n"
   ]
  },
  {
   "cell_type": "markdown",
   "id": "273790d5",
   "metadata": {},
   "source": [
    "# Elif Statement"
   ]
  },
  {
   "cell_type": "markdown",
   "id": "2753d400",
   "metadata": {},
   "source": [
    "Problem-05: Real-Life Use:\n",
    "Assigning grades based on a student's score in an exam."
   ]
  },
  {
   "cell_type": "code",
   "execution_count": 5,
   "id": "ef6b742b",
   "metadata": {},
   "outputs": [
    {
     "name": "stdout",
     "output_type": "stream",
     "text": [
      "Grade: B\n"
     ]
    }
   ],
   "source": [
    "#elif Statement\n",
    "score = 85\n",
    "if score >= 90:\n",
    "    print(\"Grade: A\")\n",
    "elif score >= 80:\n",
    "    print(\"Grade: B\")\n",
    "elif score >= 70:\n",
    "    print(\"Grade: C\")\n",
    "else:\n",
    "    print(\"Grade: D\")\n"
   ]
  },
  {
   "cell_type": "markdown",
   "id": "c632fd66",
   "metadata": {},
   "source": [
    "Problem-06: Real-Life Use:\n",
    "Determining the discount percentage based on total purchase amount."
   ]
  },
  {
   "cell_type": "code",
   "execution_count": 6,
   "id": "903a18b1",
   "metadata": {},
   "outputs": [
    {
     "name": "stdout",
     "output_type": "stream",
     "text": [
      "You get a 10% discount!\n"
     ]
    }
   ],
   "source": [
    "#elif Statement\n",
    "total_purchase = 250\n",
    "if total_purchase > 500:\n",
    "    print(\"You get a 20% discount!\")\n",
    "elif total_purchase > 200:\n",
    "    print(\"You get a 10% discount!\")\n",
    "else:\n",
    "    print(\"No discount available.\")\n"
   ]
  },
  {
   "cell_type": "markdown",
   "id": "de808947",
   "metadata": {},
   "source": [
    "# Nested if Statement"
   ]
  },
  {
   "cell_type": "markdown",
   "id": "d6336f9b",
   "metadata": {},
   "source": [
    "Problem-07: Real-Life Use:\n",
    "Verifying login credentials with an additional check for admin privileges."
   ]
  },
  {
   "cell_type": "code",
   "execution_count": 7,
   "id": "899ce8ac",
   "metadata": {},
   "outputs": [
    {
     "name": "stdout",
     "output_type": "stream",
     "text": [
      "Access granted. Welcome, Admin!\n"
     ]
    }
   ],
   "source": [
    "#Nested if Statement\n",
    "username = \"admin\"\n",
    "password = \"admin123\"\n",
    "if username == \"admin\":\n",
    "    if password == \"admin123\":\n",
    "        print(\"Access granted. Welcome, Admin!\")\n",
    "    else:\n",
    "        print(\"Incorrect password.\")\n",
    "else:\n",
    "    print(\"Invalid username.\")\n"
   ]
  },
  {
   "cell_type": "markdown",
   "id": "dc850818",
   "metadata": {},
   "source": [
    "Problem-08: Real-Life Use:\n",
    "This could be part of a security system where multiple checks are required for access."
   ]
  },
  {
   "cell_type": "code",
   "execution_count": 8,
   "id": "3c1cf91a",
   "metadata": {},
   "outputs": [
    {
     "name": "stdout",
     "output_type": "stream",
     "text": [
      "Fingerprint verification failed.\n"
     ]
    }
   ],
   "source": [
    "#Nested if Statement\n",
    "keycard = True\n",
    "fingerprint = False\n",
    "if keycard:\n",
    "    if fingerprint:\n",
    "        print(\"Access granted.\")\n",
    "    else:\n",
    "        print(\"Fingerprint verification failed.\")\n",
    "else:\n",
    "    print(\"Keycard not recognized.\")\n"
   ]
  },
  {
   "cell_type": "markdown",
   "id": "b04f2ec0",
   "metadata": {},
   "source": [
    "# Problem-09: Real-Life Use:to check whether a given letter is a vowel or not"
   ]
  },
  {
   "cell_type": "code",
   "execution_count": 9,
   "id": "47fe136c",
   "metadata": {},
   "outputs": [
    {
     "name": "stdout",
     "output_type": "stream",
     "text": [
      "Enter a letter: A\n",
      "'A' is a vowel.\n"
     ]
    }
   ],
   "source": [
    "# Input from the user\n",
    "user_letter = input(\"Enter a letter: \")\n",
    "\n",
    "# Checking the length to ensure it's a single letter\n",
    "if len(user_letter) == 1:\n",
    "    # List of vowels\n",
    "    vowels = 'aeiouAEIOU'\n",
    "    \n",
    "    # Check if the letter is in the list of vowels\n",
    "    if user_letter in vowels:\n",
    "        print(f\"'{user_letter}' is a vowel.\")\n",
    "    else:\n",
    "        print(f\"'{user_letter}' is not a vowel.\")\n",
    "else:\n",
    "    print(\"Please enter a single letter.\")\n"
   ]
  },
  {
   "cell_type": "markdown",
   "id": "a7b7d549",
   "metadata": {},
   "source": [
    "# For Loop"
   ]
  },
  {
   "cell_type": "markdown",
   "id": "f4300677",
   "metadata": {},
   "source": [
    "Problem-09: Real-Life Use:\n",
    "Sending emails to multiple users in a mailing list."
   ]
  },
  {
   "cell_type": "code",
   "execution_count": 10,
   "id": "e8b5f8b2",
   "metadata": {},
   "outputs": [
    {
     "name": "stdout",
     "output_type": "stream",
     "text": [
      "Sending email to user1@example.com\n",
      "Sending email to user2@example.com\n",
      "Sending email to user3@example.com\n"
     ]
    }
   ],
   "source": [
    "#for Loop\n",
    "email_list = [\"user1@example.com\", \"user2@example.com\", \"user3@example.com\"]\n",
    "for email in email_list:\n",
    "    print(f\"Sending email to {email}\")\n"
   ]
  },
  {
   "cell_type": "markdown",
   "id": "2ecf8cc2",
   "metadata": {},
   "source": [
    "Problem-10: Real-Life Use:\n",
    "Sending personalized reminders to each attendee of an event."
   ]
  },
  {
   "cell_type": "code",
   "execution_count": 11,
   "id": "e0d74dce",
   "metadata": {},
   "outputs": [
    {
     "name": "stdout",
     "output_type": "stream",
     "text": [
      "Reminder sent to Alice.\n",
      "Reminder sent to Bob.\n",
      "Reminder sent to Charlie.\n"
     ]
    }
   ],
   "source": [
    "#for Loop\n",
    "attendees = [\"Alice\", \"Bob\", \"Charlie\"]\n",
    "for person in attendees:\n",
    "    print(f\"Reminder sent to {person}.\")\n"
   ]
  },
  {
   "cell_type": "markdown",
   "id": "c31d3cd5",
   "metadata": {},
   "source": [
    "# While Loop"
   ]
  },
  {
   "cell_type": "markdown",
   "id": "5e482d81",
   "metadata": {},
   "source": [
    "Problem-11:Real-Life Use:\n",
    "Counting down to an event, like a rocket launch."
   ]
  },
  {
   "cell_type": "code",
   "execution_count": 12,
   "id": "9ed4c889",
   "metadata": {},
   "outputs": [
    {
     "name": "stdout",
     "output_type": "stream",
     "text": [
      "T-minus 10 seconds\n",
      "T-minus 9 seconds\n",
      "T-minus 8 seconds\n",
      "T-minus 7 seconds\n",
      "T-minus 6 seconds\n",
      "T-minus 5 seconds\n",
      "T-minus 4 seconds\n",
      "T-minus 3 seconds\n",
      "T-minus 2 seconds\n",
      "T-minus 1 seconds\n",
      "Liftoff!\n"
     ]
    }
   ],
   "source": [
    "#while Loop\n",
    "countdown = 10\n",
    "while countdown > 0:\n",
    "    print(f\"T-minus {countdown} seconds\")\n",
    "    countdown -= 1\n",
    "print(\"Liftoff!\")\n"
   ]
  },
  {
   "cell_type": "markdown",
   "id": "7f8891f0",
   "metadata": {},
   "source": [
    "Problem-12: Real-Life Use:\n",
    "This could be part of a device that monitors battery life and alerts the user when it's time to recharge."
   ]
  },
  {
   "cell_type": "code",
   "execution_count": 13,
   "id": "bdc53b8e",
   "metadata": {},
   "outputs": [
    {
     "name": "stdout",
     "output_type": "stream",
     "text": [
      "Battery level is at 100%.\n",
      "Battery level is at 90%.\n",
      "Battery level is at 80%.\n",
      "Battery level is at 70%.\n",
      "Battery level is at 60%.\n",
      "Battery level is at 50%.\n",
      "Battery level is at 40%.\n",
      "Battery level is at 30%.\n",
      "Warning: Battery level low!\n"
     ]
    }
   ],
   "source": [
    "#while Loop: Monitoring Battery Level\n",
    "battery_level = 100\n",
    "while battery_level > 20:\n",
    "    print(f\"Battery level is at {battery_level}%.\")\n",
    "    battery_level -= 10\n",
    "\n",
    "print(\"Warning: Battery level low!\")\n"
   ]
  },
  {
   "cell_type": "markdown",
   "id": "4757c929",
   "metadata": {},
   "source": [
    "# Continue Statement"
   ]
  },
  {
   "cell_type": "markdown",
   "id": "04495d9a",
   "metadata": {},
   "source": [
    "Problem-13: Real-Life Use:\n",
    "Skipping weekends when generating a work schedule."
   ]
  },
  {
   "cell_type": "code",
   "execution_count": 14,
   "id": "8aebc149",
   "metadata": {},
   "outputs": [
    {
     "name": "stdout",
     "output_type": "stream",
     "text": [
      "Work scheduled on Monday\n",
      "Work scheduled on Tuesday\n",
      "Work scheduled on Wednesday\n",
      "Work scheduled on Thursday\n",
      "Work scheduled on Friday\n"
     ]
    }
   ],
   "source": [
    "#continue Statement\n",
    "days = [\"Monday\", \"Tuesday\", \"Wednesday\", \"Thursday\", \"Friday\", \"Saturday\", \"Sunday\"]\n",
    "for day in days:\n",
    "    if day in [\"Saturday\", \"Sunday\"]:\n",
    "        continue\n",
    "    print(f\"Work scheduled on {day}\")\n"
   ]
  },
  {
   "cell_type": "markdown",
   "id": "473ca414",
   "metadata": {},
   "source": [
    "Problem-14: Real-Life Use:\n",
    "Skipping over banned users when sending messages in an online platform."
   ]
  },
  {
   "cell_type": "code",
   "execution_count": 15,
   "id": "4874d00d",
   "metadata": {},
   "outputs": [
    {
     "name": "stdout",
     "output_type": "stream",
     "text": [
      "Message sent to Alice.\n",
      "Message sent to Charlie.\n"
     ]
    }
   ],
   "source": [
    "#continue Statement\n",
    "users = [\"Alice\", \"Bob\", \"Charlie\"]\n",
    "banned_users = [\"Bob\"]\n",
    "for user in users:\n",
    "    if user in banned_users:\n",
    "        continue\n",
    "    print(f\"Message sent to {user}.\")\n"
   ]
  },
  {
   "cell_type": "markdown",
   "id": "915d8d8a",
   "metadata": {},
   "source": [
    "# Break Statement"
   ]
  },
  {
   "cell_type": "markdown",
   "id": "60742c36",
   "metadata": {},
   "source": [
    "Problem-15: Real-Life Use:\n",
    "Searching for a specific book in a library and stopping once it's found.\n"
   ]
  },
  {
   "cell_type": "code",
   "execution_count": 16,
   "id": "ee3b0cf6",
   "metadata": {},
   "outputs": [
    {
     "name": "stdout",
     "output_type": "stream",
     "text": [
      "Book C found in the library.\n"
     ]
    }
   ],
   "source": [
    "#break Statement\n",
    "library = [\"Book A\", \"Book B\", \"Book C\", \"Book D\"]\n",
    "search = \"Book C\"\n",
    "for book in library:\n",
    "    if book == search:\n",
    "        print(f\"{search} found in the library.\")\n",
    "        break\n"
   ]
  },
  {
   "cell_type": "markdown",
   "id": "b33b7e82",
   "metadata": {},
   "source": [
    "Problem-16: Real-Life Use:\n",
    "Stopping the search as soon as the item is found."
   ]
  },
  {
   "cell_type": "code",
   "execution_count": 17,
   "id": "1176be16",
   "metadata": {},
   "outputs": [
    {
     "name": "stdout",
     "output_type": "stream",
     "text": [
      "Found bread in the list.\n"
     ]
    }
   ],
   "source": [
    "#break Statement\n",
    "shopping_list = [\"milk\", \"eggs\", \"bread\", \"butter\"]\n",
    "item_to_find = \"bread\"\n",
    "for item in shopping_list:\n",
    "    if item == item_to_find:\n",
    "        print(f\"Found {item_to_find} in the list.\")\n",
    "        break\n"
   ]
  },
  {
   "cell_type": "markdown",
   "id": "4af52403",
   "metadata": {},
   "source": [
    "# Pass Statement"
   ]
  },
  {
   "cell_type": "markdown",
   "id": "c53e24e1",
   "metadata": {},
   "source": [
    "Problem-17: Real-Life Use:\n",
    "A placeholder for future code, such as in user authentication functions."
   ]
  },
  {
   "cell_type": "code",
   "execution_count": 18,
   "id": "76e35bad",
   "metadata": {},
   "outputs": [],
   "source": [
    "#pass Statement\n",
    "def authenticate_user(user):\n",
    "    if user == \"admin\":\n",
    "        pass  # Logic to authenticate admin will be added later\n",
    "    else:\n",
    "        print(\"Regular user authentication.\")\n"
   ]
  },
  {
   "cell_type": "markdown",
   "id": "f9e75ffc",
   "metadata": {},
   "source": [
    "Problem-18: Real-Life Use:\n",
    "Using pass as a placeholder while developing large-scale projects."
   ]
  },
  {
   "cell_type": "code",
   "execution_count": 19,
   "id": "bc309de6",
   "metadata": {},
   "outputs": [],
   "source": [
    "#pass Statement\n",
    "def future_feature():\n",
    "    pass  # Implementation will be added later\n"
   ]
  },
  {
   "cell_type": "code",
   "execution_count": null,
   "id": "b540363d",
   "metadata": {},
   "outputs": [],
   "source": []
  }
 ],
 "metadata": {
  "kernelspec": {
   "display_name": "Python 3 (ipykernel)",
   "language": "python",
   "name": "python3"
  },
  "language_info": {
   "codemirror_mode": {
    "name": "ipython",
    "version": 3
   },
   "file_extension": ".py",
   "mimetype": "text/x-python",
   "name": "python",
   "nbconvert_exporter": "python",
   "pygments_lexer": "ipython3",
   "version": "3.11.4"
  }
 },
 "nbformat": 4,
 "nbformat_minor": 5
}
