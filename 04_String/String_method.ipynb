{
 "cells": [
  {
   "cell_type": "code",
   "execution_count": 1,
   "id": "e42bf2ca",
   "metadata": {},
   "outputs": [
    {
     "name": "stdout",
     "output_type": "stream",
     "text": [
      "Raihan ki koro akhon\n"
     ]
    }
   ],
   "source": [
    "#Capitalize\n",
    "name=\"raihan ki koro akhon\"\n",
    "print(name.capitalize())"
   ]
  },
  {
   "cell_type": "code",
   "execution_count": 2,
   "id": "3a920903",
   "metadata": {},
   "outputs": [
    {
     "name": "stdout",
     "output_type": "stream",
     "text": [
      "Raihan Ki Koro Akhon\n"
     ]
    }
   ],
   "source": [
    "#Title\n",
    "name=\"raihan ki koro akhon\"\n",
    "print(name.title())"
   ]
  },
  {
   "cell_type": "code",
   "execution_count": 3,
   "id": "2e5af47c",
   "metadata": {},
   "outputs": [
    {
     "name": "stdout",
     "output_type": "stream",
     "text": [
      "RAIHAN KI KORO AKHON\n"
     ]
    }
   ],
   "source": [
    "#Upper\n",
    "name=\"raihan ki koro akhon\"\n",
    "print(name.upper())"
   ]
  },
  {
   "cell_type": "code",
   "execution_count": 4,
   "id": "b262f88c",
   "metadata": {},
   "outputs": [
    {
     "name": "stdout",
     "output_type": "stream",
     "text": [
      "raihan ki koro akhon\n",
      "$\n"
     ]
    }
   ],
   "source": [
    "#casefold\n",
    "name=\"RAIHAN KI KORO AKHON\"\n",
    "print(name.casefold())\n",
    "#more efficient from lower\n",
    "\n",
    "name=\"$\"\n",
    "print(name.casefold())"
   ]
  },
  {
   "cell_type": "code",
   "execution_count": 5,
   "id": "c3f50975",
   "metadata": {},
   "outputs": [
    {
     "name": "stdout",
     "output_type": "stream",
     "text": [
      "raihan ki koro akhon\n"
     ]
    }
   ],
   "source": [
    "#lower\n",
    "name=\"RAIHAN KI KORO AKHON\"\n",
    "print(name.lower())"
   ]
  },
  {
   "cell_type": "code",
   "execution_count": 6,
   "id": "45c9ad77",
   "metadata": {},
   "outputs": [
    {
     "name": "stdout",
     "output_type": "stream",
     "text": [
      "r*a*i*h*a*n* *k*i* *k*o*r*o* *a*k*h*o*n\n"
     ]
    },
    {
     "data": {
      "text/plain": [
       "'words = [\\'Hello\\', \\'World\\']\\nprint(\\' \\'.join(words))  # Output: \"Hello World\"\\n'"
      ]
     },
     "execution_count": 6,
     "metadata": {},
     "output_type": "execute_result"
    }
   ],
   "source": [
    "#join\n",
    "name=\"raihan ki koro akhon\"\n",
    "print(\"*\".join(name))\n",
    "\n",
    "#Another example\n",
    "'''words = ['Hello', 'World']\n",
    "print(' '.join(words))  # Output: \"Hello World\"\n",
    "'''"
   ]
  },
  {
   "cell_type": "code",
   "execution_count": 7,
   "id": "ef539daa",
   "metadata": {},
   "outputs": [
    {
     "name": "stdout",
     "output_type": "stream",
     "text": [
      "2\n"
     ]
    }
   ],
   "source": [
    "#find\n",
    "react='I love banladesh'\n",
    "print(react.find(\"l\"))"
   ]
  },
  {
   "cell_type": "code",
   "execution_count": 8,
   "id": "11f34717",
   "metadata": {},
   "outputs": [
    {
     "name": "stdout",
     "output_type": "stream",
     "text": [
      "10\n"
     ]
    }
   ],
   "source": [
    "#rfind\n",
    "react='I love banladesh'\n",
    "print(react.rfind(\"l\"))"
   ]
  },
  {
   "cell_type": "code",
   "execution_count": 9,
   "id": "5318fa20",
   "metadata": {},
   "outputs": [
    {
     "name": "stdout",
     "output_type": "stream",
     "text": [
      ".........................Raihan........................\n"
     ]
    }
   ],
   "source": [
    "#center\n",
    "name='Raihan'\n",
    "print(name.center(55 ,'.'))"
   ]
  },
  {
   "cell_type": "code",
   "execution_count": 10,
   "id": "acb0da24",
   "metadata": {},
   "outputs": [
    {
     "name": "stdout",
     "output_type": "stream",
     "text": [
      "Raihan.................................................\n"
     ]
    }
   ],
   "source": [
    "#ljust\n",
    "name='Raihan'\n",
    "print(name.ljust(55,'.'))"
   ]
  },
  {
   "cell_type": "code",
   "execution_count": 11,
   "id": "31d5b56b",
   "metadata": {},
   "outputs": [
    {
     "name": "stdout",
     "output_type": "stream",
     "text": [
      ".................................................Raihan\n"
     ]
    }
   ],
   "source": [
    "#rjust\n",
    "name='Raihan'\n",
    "print(name.rjust(55 ,'.'))"
   ]
  },
  {
   "cell_type": "code",
   "execution_count": 12,
   "id": "137d5e9f",
   "metadata": {},
   "outputs": [
    {
     "name": "stdout",
     "output_type": "stream",
     "text": [
      "2\n"
     ]
    }
   ],
   "source": [
    "#count\n",
    "name='Raihan'\n",
    "print(name.count('a'))"
   ]
  },
  {
   "cell_type": "code",
   "execution_count": 13,
   "id": "bc871326",
   "metadata": {},
   "outputs": [
    {
     "name": "stdout",
     "output_type": "stream",
     "text": [
      "Raihan\n"
     ]
    }
   ],
   "source": [
    "#strip\n",
    "name='                Raihan  '\n",
    "print(name.strip())\n",
    "#Remove space\n",
    "#also remove gerbase value(\"any mention value\")\n",
    "\n"
   ]
  },
  {
   "cell_type": "code",
   "execution_count": 14,
   "id": "3482b07c",
   "metadata": {},
   "outputs": [
    {
     "name": "stdout",
     "output_type": "stream",
     "text": [
      "Hello World  \n"
     ]
    }
   ],
   "source": [
    "#lstrip\n",
    "text = \"  Hello World  \"\n",
    "print(text.lstrip())  # Output: \"Hello World  \""
   ]
  },
  {
   "cell_type": "code",
   "execution_count": 15,
   "id": "f379036d",
   "metadata": {},
   "outputs": [
    {
     "name": "stdout",
     "output_type": "stream",
     "text": [
      "  Hello World\n"
     ]
    }
   ],
   "source": [
    "#rstrip\n",
    "text = \"  Hello World  \"\n",
    "print(text.rstrip())  # Output: \"  Hello World\"\n"
   ]
  },
  {
   "cell_type": "code",
   "execution_count": 16,
   "id": "55f8fe89",
   "metadata": {},
   "outputs": [
    {
     "name": "stdout",
     "output_type": "stream",
     "text": [
      "['I', 'love', 'bangladesh']\n"
     ]
    }
   ],
   "source": [
    "#split\n",
    "name='I love bangladesh'\n",
    "print(name.split())\n",
    "\n",
    "\n",
    "#if you know its type\n",
    "#print(name.split(),type(name.split()))"
   ]
  },
  {
   "cell_type": "code",
   "execution_count": 17,
   "id": "7c3b0eb7",
   "metadata": {},
   "outputs": [
    {
     "name": "stdout",
     "output_type": "stream",
     "text": [
      "['Hello', 'World']\n"
     ]
    }
   ],
   "source": [
    "#splitlines()\n",
    "text = \"Hello\\nWorld\"\n",
    "print(text.splitlines())  # Output: ['Hello', 'World']"
   ]
  },
  {
   "cell_type": "code",
   "execution_count": 18,
   "id": "da80c93f",
   "metadata": {},
   "outputs": [
    {
     "name": "stdout",
     "output_type": "stream",
     "text": [
      "('Hello', ' ', 'World')\n"
     ]
    }
   ],
   "source": [
    "#partition()\n",
    "text = \"Hello World\"\n",
    "print(text.partition(' '))  # Output: ('Hello', ' ', 'World')\n"
   ]
  },
  {
   "cell_type": "code",
   "execution_count": 19,
   "id": "cbdb2b2a",
   "metadata": {},
   "outputs": [
    {
     "name": "stdout",
     "output_type": "stream",
     "text": [
      "hELLO wORLD\n"
     ]
    }
   ],
   "source": [
    "#swapcase()\n",
    "text = \"Hello World\"\n",
    "print(text.swapcase())  # Output: \"hELLO wORLD\"\n"
   ]
  },
  {
   "cell_type": "code",
   "execution_count": 20,
   "id": "0465f943",
   "metadata": {},
   "outputs": [
    {
     "name": "stdout",
     "output_type": "stream",
     "text": [
      "True\n"
     ]
    }
   ],
   "source": [
    "#endswith()\n",
    "text = \"Hello World\"\n",
    "print(text.endswith('World'))  # Output: True\n"
   ]
  },
  {
   "cell_type": "code",
   "execution_count": 21,
   "id": "c5d0620d",
   "metadata": {},
   "outputs": [
    {
     "name": "stdout",
     "output_type": "stream",
     "text": [
      "True\n"
     ]
    }
   ],
   "source": [
    "#startswith()\n",
    "text = \"Hello World\"\n",
    "print(text.startswith('Hello'))  # Output: True"
   ]
  },
  {
   "cell_type": "code",
   "execution_count": 22,
   "id": "3b078ce0",
   "metadata": {},
   "outputs": [
    {
     "name": "stdout",
     "output_type": "stream",
     "text": [
      "00042\n"
     ]
    }
   ],
   "source": [
    "#zfill()\n",
    "text = \"42\"\n",
    "print(text.zfill(5))  # Output: \"00042\""
   ]
  },
  {
   "cell_type": "code",
   "execution_count": 23,
   "id": "e8226538",
   "metadata": {},
   "outputs": [
    {
     "name": "stdout",
     "output_type": "stream",
     "text": [
      "Hello Universe\n"
     ]
    }
   ],
   "source": [
    "#replace()\n",
    "text = \"Hello World\"\n",
    "print(text.replace('World', 'Universe'))  # Output: \"Hello Universe\"\n"
   ]
  },
  {
   "cell_type": "code",
   "execution_count": 24,
   "id": "dbd501be",
   "metadata": {},
   "outputs": [
    {
     "name": "stdout",
     "output_type": "stream",
     "text": [
      "True\n"
     ]
    }
   ],
   "source": [
    "#islower()\n",
    "text = \"hello world\"\n",
    "print(text.islower())  # Output: True\n"
   ]
  },
  {
   "cell_type": "code",
   "execution_count": 25,
   "id": "c88bfab5",
   "metadata": {},
   "outputs": [
    {
     "name": "stdout",
     "output_type": "stream",
     "text": [
      "True\n"
     ]
    }
   ],
   "source": [
    "#istitle()\n",
    "text = \"Hello World\"\n",
    "print(text.istitle())  # Output: True\n"
   ]
  },
  {
   "cell_type": "code",
   "execution_count": 26,
   "id": "30cb72d2",
   "metadata": {},
   "outputs": [
    {
     "name": "stdout",
     "output_type": "stream",
     "text": [
      "True\n"
     ]
    }
   ],
   "source": [
    "#isupper()\n",
    "text = \"HELLO WORLD\"\n",
    "print(text.isupper())  # Output: True\n"
   ]
  },
  {
   "cell_type": "code",
   "execution_count": 27,
   "id": "03073190",
   "metadata": {},
   "outputs": [
    {
     "name": "stdout",
     "output_type": "stream",
     "text": [
      "True\n"
     ]
    }
   ],
   "source": [
    "#isnumeric()\n",
    "text = \"12345\"\n",
    "print(text.isnumeric())  # Output: True\n"
   ]
  },
  {
   "cell_type": "code",
   "execution_count": 28,
   "id": "37280f39",
   "metadata": {},
   "outputs": [
    {
     "name": "stdout",
     "output_type": "stream",
     "text": [
      "True\n"
     ]
    }
   ],
   "source": [
    "#isdigit()\n",
    "text = \"12345\"\n",
    "print(text.isdigit())  # Output: True\n"
   ]
  },
  {
   "cell_type": "code",
   "execution_count": 29,
   "id": "ce0f3d95",
   "metadata": {},
   "outputs": [
    {
     "name": "stdout",
     "output_type": "stream",
     "text": [
      "True\n"
     ]
    }
   ],
   "source": [
    "#isdecimal()\n",
    "text = \"12345\"\n",
    "print(text.isdecimal())  # Output: True\n"
   ]
  },
  {
   "cell_type": "code",
   "execution_count": 30,
   "id": "32733a5d",
   "metadata": {},
   "outputs": [
    {
     "name": "stdout",
     "output_type": "stream",
     "text": [
      "True\n"
     ]
    }
   ],
   "source": [
    "#isalpha()\n",
    "text = \"HelloWorld\"\n",
    "print(text.isalpha())  # Output: True\n"
   ]
  },
  {
   "cell_type": "code",
   "execution_count": 31,
   "id": "50320545",
   "metadata": {},
   "outputs": [
    {
     "name": "stdout",
     "output_type": "stream",
     "text": [
      "True\n"
     ]
    }
   ],
   "source": [
    "#isalnum()\n",
    "text = \"Hello123\"\n",
    "print(text.isalnum())  # Output: True\n"
   ]
  },
  {
   "cell_type": "code",
   "execution_count": 32,
   "id": "b2480b5e",
   "metadata": {},
   "outputs": [
    {
     "name": "stdout",
     "output_type": "stream",
     "text": [
      "True\n"
     ]
    }
   ],
   "source": [
    "#isspace()\n",
    "text = \"   \"\n",
    "print(text.isspace())  # Output: True\n"
   ]
  },
  {
   "cell_type": "code",
   "execution_count": 33,
   "id": "64ad1af6",
   "metadata": {},
   "outputs": [
    {
     "name": "stdout",
     "output_type": "stream",
     "text": [
      "['False', 'None', 'True', 'and', 'as', 'assert', 'async', 'await', 'break', 'class', 'continue', 'def', 'del', 'elif', 'else', 'except', 'finally', 'for', 'from', 'global', 'if', 'import', 'in', 'is', 'lambda', 'nonlocal', 'not', 'or', 'pass', 'raise', 'return', 'try', 'while', 'with', 'yield']\n"
     ]
    }
   ],
   "source": [
    "#keyword\n",
    "import keyword\n",
    "print(keyword.kwlist)"
   ]
  },
  {
   "cell_type": "code",
   "execution_count": null,
   "id": "519911fc",
   "metadata": {},
   "outputs": [],
   "source": []
  }
 ],
 "metadata": {
  "kernelspec": {
   "display_name": "Python 3 (ipykernel)",
   "language": "python",
   "name": "python3"
  },
  "language_info": {
   "codemirror_mode": {
    "name": "ipython",
    "version": 3
   },
   "file_extension": ".py",
   "mimetype": "text/x-python",
   "name": "python",
   "nbconvert_exporter": "python",
   "pygments_lexer": "ipython3",
   "version": "3.11.4"
  }
 },
 "nbformat": 4,
 "nbformat_minor": 5
}
