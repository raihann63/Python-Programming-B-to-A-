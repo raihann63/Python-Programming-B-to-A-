{
 "cells": [
  {
   "cell_type": "code",
   "execution_count": 1,
   "id": "0a2edc2c",
   "metadata": {},
   "outputs": [
    {
     "name": "stdout",
     "output_type": "stream",
     "text": [
      "OUTPUT: Raihan currently very tried for his work hard\n"
     ]
    }
   ],
   "source": [
    "#𝘴𝑖𝘯𝑔𝘭𝑒-𝑙𝘪𝑛𝘦 𝘴𝑡𝘳𝑖𝘯𝑔\n",
    "name='Raihan currently very tried for his work hard'\n",
    "print(\"OUTPUT:\",name)"
   ]
  },
  {
   "cell_type": "code",
   "execution_count": 2,
   "id": "656deb2f",
   "metadata": {},
   "outputs": [
    {
     "name": "stdout",
     "output_type": "stream",
     "text": [
      "OUTPUT:  I am student of computer\n",
      "science and engineering <class 'str'>\n"
     ]
    }
   ],
   "source": [
    "#Multi-line string\n",
    "name=''' I am student of computer\n",
    "science and engineering'''\n",
    "print(\"OUTPUT:\",name,type(name))"
   ]
  },
  {
   "cell_type": "code",
   "execution_count": 3,
   "id": "cd656741",
   "metadata": {},
   "outputs": [
    {
     "name": "stdout",
     "output_type": "stream",
     "text": [
      "OUTPUT:I\n"
     ]
    }
   ],
   "source": [
    "#Positive index string\n",
    "name='RAIHAN'\n",
    "print(\"OUTPUT:\"+name[2])"
   ]
  },
  {
   "cell_type": "code",
   "execution_count": 4,
   "id": "f660e9cb",
   "metadata": {},
   "outputs": [
    {
     "name": "stdout",
     "output_type": "stream",
     "text": [
      "Answer= A\n"
     ]
    }
   ],
   "source": [
    "#Negetive inex string\n",
    "name='RAIHAN'\n",
    "print(\"Answer= \"+name[-2])"
   ]
  },
  {
   "cell_type": "markdown",
   "id": "3b6d0115",
   "metadata": {},
   "source": [
    "# Range/Slice"
   ]
  },
  {
   "cell_type": "code",
   "execution_count": 5,
   "id": "f8530f77",
   "metadata": {},
   "outputs": [
    {
     "name": "stdout",
     "output_type": "stream",
     "text": [
      "Answer= IHAN\n"
     ]
    }
   ],
   "source": [
    "name='RAIHAN'\n",
    "print(\"Answer= \"+name[2:])"
   ]
  },
  {
   "cell_type": "code",
   "execution_count": 6,
   "id": "84788709",
   "metadata": {},
   "outputs": [
    {
     "name": "stdout",
     "output_type": "stream",
     "text": [
      "Answer= RA\n"
     ]
    }
   ],
   "source": [
    "name='RAIHAN'\n",
    "print(\"Answer= \"+name[:2])"
   ]
  },
  {
   "cell_type": "code",
   "execution_count": 7,
   "id": "f9882bb8",
   "metadata": {},
   "outputs": [
    {
     "name": "stdout",
     "output_type": "stream",
     "text": [
      "Answer= IH\n"
     ]
    }
   ],
   "source": [
    "name='RAIHAN'\n",
    "print(\"Answer= \"+name[2:4])"
   ]
  },
  {
   "cell_type": "code",
   "execution_count": 8,
   "id": "f33c1781",
   "metadata": {},
   "outputs": [
    {
     "name": "stdout",
     "output_type": "stream",
     "text": [
      "OUTPUT: hello\n"
     ]
    }
   ],
   "source": [
    "#Change (Strings are Immutable):\n",
    "string = \"Hello\"\n",
    "string = \"h\" + string[1:]\n",
    "print(\"OUTPUT:\",string)  # Output: 'hello'\n",
    "\n",
    "#Limitation :\n",
    "# Trying to change a character will result in an error\n",
    "# string[0] = \"H\"  # This will raise a TypeError\n",
    "# Instead, create a new string\n",
    "\n"
   ]
  },
  {
   "cell_type": "code",
   "execution_count": 9,
   "id": "37848980",
   "metadata": {},
   "outputs": [
    {
     "name": "stdout",
     "output_type": "stream",
     "text": [
      "OUTPUT: Hemlo\n"
     ]
    }
   ],
   "source": [
    "#FOR midile valu l cahnges:\n",
    "string = \"Hello\"\n",
    "string=string[:2]+\"m\"+string[3:]\n",
    "print(\"OUTPUT:\",string)"
   ]
  },
  {
   "cell_type": "code",
   "execution_count": 10,
   "id": "c528d21a",
   "metadata": {},
   "outputs": [],
   "source": [
    "#Delete (Strings are Immutable):\n",
    "\n",
    "string = \"Hello, World!\"\n",
    "del string\n",
    "\n",
    "#if you want detete specific string delete then follow before rules\n",
    "# print(string)  # This will raise a NameError because 'string' is deleted\n",
    "# You cannot delete a part of the string directly\n",
    "# del string[0]  # This will raise a TypeError\n",
    "# You can delete the entire string"
   ]
  },
  {
   "cell_type": "code",
   "execution_count": 11,
   "id": "461a74e2",
   "metadata": {},
   "outputs": [
    {
     "name": "stdout",
     "output_type": "stream",
     "text": [
      "R A I H A N \n",
      "OUTPUT:The Length= 6\n"
     ]
    }
   ],
   "source": [
    "#Loop Through String\n",
    "string = \"RAIHAN\"\n",
    "length=0\n",
    "for char in string:\n",
    "    #print(char)\n",
    "    print(char,end=\" \")\n",
    "    length=length+1\n",
    "print()\n",
    "print(\"OUTPUT:\"+\"The Length=\",length)\n",
    "\n"
   ]
  },
  {
   "cell_type": "code",
   "execution_count": 12,
   "id": "f5d51b5b",
   "metadata": {},
   "outputs": [
    {
     "name": "stdout",
     "output_type": "stream",
     "text": [
      "OUTPUT: 12\n"
     ]
    }
   ],
   "source": [
    "#Length of String:\n",
    "string = \"RAIHAN , ali\"\n",
    "print(\"OUTPUT:\",len(string))  \n"
   ]
  },
  {
   "cell_type": "code",
   "execution_count": 13,
   "id": "cc999e1e",
   "metadata": {},
   "outputs": [
    {
     "name": "stdout",
     "output_type": "stream",
     "text": [
      "OUTPUT: True\n",
      "OUTPUT: False\n"
     ]
    }
   ],
   "source": [
    "#Membership (Check if a Substring is Present):\n",
    "\n",
    "string = \"RAIHAN , SHOHAG\"\n",
    "print(\"OUTPUT:\",\"RAIHAN\" in string)  \n",
    "print(\"OUTPUT:\",\"SHOHAg\" in string)  \n"
   ]
  },
  {
   "cell_type": "code",
   "execution_count": 14,
   "id": "a3286f3b",
   "metadata": {},
   "outputs": [
    {
     "name": "stdout",
     "output_type": "stream",
     "text": [
      "OUTPUT: Hello, World\n"
     ]
    }
   ],
   "source": [
    "#Concatenation:\n",
    "string1 = \"Hello\"\n",
    "string2 = \"World\"\n",
    "combined = string1 + \", \" + string2\n",
    "print(\"OUTPUT:\",combined) \n"
   ]
  },
  {
   "cell_type": "code",
   "execution_count": 15,
   "id": "85ef9511",
   "metadata": {},
   "outputs": [
    {
     "name": "stdout",
     "output_type": "stream",
     "text": [
      "OUTPUT: RAIHAN RAIHAN RAIHAN RAIHAN RAIHAN \n"
     ]
    }
   ],
   "source": [
    "#Repetition:\n",
    "\n",
    "string = \"RAIHAN \"\n",
    "repeated = string * 5\n",
    "print(\"OUTPUT:\",repeated) \n",
    "\n",
    "#[If you want output above to below] repeated = (string + '\\n') * 5"
   ]
  },
  {
   "cell_type": "code",
   "execution_count": 16,
   "id": "33e66871",
   "metadata": {},
   "outputs": [
    {
     "name": "stdout",
     "output_type": "stream",
     "text": [
      "OUTPUT: False\n",
      "OUTPUT: True\n"
     ]
    }
   ],
   "source": [
    "#Relational Operators:\n",
    "string1 = \"apple\"\n",
    "string2 = \"banana\"\n",
    "print(\"OUTPUT:\",string1 == string2)  \n",
    "print(\"OUTPUT:\",string1 < string2) \n"
   ]
  },
  {
   "cell_type": "code",
   "execution_count": 17,
   "id": "c8173789",
   "metadata": {},
   "outputs": [
    {
     "name": "stdout",
     "output_type": "stream",
     "text": [
      "OUTPUT : My name is RAIHAN and I am 24 years old.\n"
     ]
    }
   ],
   "source": [
    "#String Formatting:\n",
    "name = \"RAIHAN\"\n",
    "age = 24\n",
    "print(f\"OUTPUT : My name is {name} and I am {age} years old.\")\n",
    "\n"
   ]
  },
  {
   "cell_type": "code",
   "execution_count": 18,
   "id": "7d9146f2",
   "metadata": {},
   "outputs": [
    {
     "name": "stdout",
     "output_type": "stream",
     "text": [
      "Something wrong\n"
     ]
    }
   ],
   "source": [
    "#Relational Operators:\n",
    "x='Raihan'\n",
    "if 'Raihan' !=x:\n",
    "    print(\"2 ta same na holea print hobo\")\n",
    "else:\n",
    "    print(\"Something wrong\")\n"
   ]
  },
  {
   "cell_type": "code",
   "execution_count": null,
   "id": "07311065",
   "metadata": {},
   "outputs": [],
   "source": []
  }
 ],
 "metadata": {
  "kernelspec": {
   "display_name": "Python 3 (ipykernel)",
   "language": "python",
   "name": "python3"
  },
  "language_info": {
   "codemirror_mode": {
    "name": "ipython",
    "version": 3
   },
   "file_extension": ".py",
   "mimetype": "text/x-python",
   "name": "python",
   "nbconvert_exporter": "python",
   "pygments_lexer": "ipython3",
   "version": "3.11.4"
  }
 },
 "nbformat": 4,
 "nbformat_minor": 5
}
